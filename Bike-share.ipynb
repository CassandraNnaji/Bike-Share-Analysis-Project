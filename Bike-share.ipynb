{
 "cells": [
  {
   "cell_type": "markdown",
   "id": "bd07846f",
   "metadata": {
    "papermill": {
     "duration": 0.013022,
     "end_time": "2022-12-16T21:49:49.616526",
     "exception": false,
     "start_time": "2022-12-16T21:49:49.603504",
     "status": "completed"
    },
    "tags": []
   },
   "source": [
    "# **Introduction**\n",
    "\n",
    "This is a Case Study project. Where we will be analyzing a company named 'Cyclistic', a bike sharing company based in Chicago. Cyclistic features more than 5,800 bikes and 600 docking stations throughout the state of Chicago. Our job for this Case Study is to analyze historical data to identify trends on how annual and casual riders use Cyclistic bikes differently. Which will then help us form some recommendations on how to convert casual riders into annual members. Also recommend ways the marketing team can use digital media to influence casual riders to become members."
   ]
  },
  {
   "cell_type": "markdown",
   "id": "e1529707",
   "metadata": {
    "papermill": {
     "duration": 0.012089,
     "end_time": "2022-12-16T21:49:49.640727",
     "exception": false,
     "start_time": "2022-12-16T21:49:49.628638",
     "status": "completed"
    },
    "tags": []
   },
   "source": [
    "# **Phase #1- ASK**\n",
    "\n",
    "**Business Task:** \n",
    "* To analyze Cylistics historical data trends and figure out how annual members and causal members use Cyclistic bicycles differently. \n",
    "\n",
    "**Stakeholders:**\n",
    "* Lily Moreno- The director of marketing\n",
    "* Cyclistic Executive Team- Will decide whether to approve the recommendations based off the analysis \n",
    "* Marketing Team\n"
   ]
  },
  {
   "cell_type": "markdown",
   "id": "c69c65f9",
   "metadata": {
    "papermill": {
     "duration": 0.012632,
     "end_time": "2022-12-16T21:49:49.666937",
     "exception": false,
     "start_time": "2022-12-16T21:49:49.654305",
     "status": "completed"
    },
    "tags": []
   },
   "source": [
    "# **Phase #2-PREPARE**\n",
    "\n",
    "* We were given 12 months of Cyclistic trip data. The data was made available by Motivate International Inc. The data measures quarter 2,3 and 4 of 2019 and quarter 1 of 2020."
   ]
  },
  {
   "cell_type": "markdown",
   "id": "177de9c7",
   "metadata": {
    "papermill": {
     "duration": 0.012199,
     "end_time": "2022-12-16T21:49:49.691341",
     "exception": false,
     "start_time": "2022-12-16T21:49:49.679142",
     "status": "completed"
    },
    "tags": []
   },
   "source": [
    "# **Phase #3-PROCESS**\n",
    "\n",
    "* We will be using R program to organize, clean, analyze and visualize the data."
   ]
  },
  {
   "cell_type": "markdown",
   "id": "01d6167f",
   "metadata": {
    "papermill": {
     "duration": 0.012122,
     "end_time": "2022-12-16T21:49:49.715590",
     "exception": false,
     "start_time": "2022-12-16T21:49:49.703468",
     "status": "completed"
    },
    "tags": []
   },
   "source": [
    "**Installing and loading up the packages we will use**\n",
    "\n",
    "We will install the packages: 'tidyverse'(Allowing us to manipulate, explore and visualize), 'lubridate'(Makes it easier to work with dates and times), 'ggplot2(For visualization), skimr(Helps summarize data easily), 'janitor'(Simplify data cleaning)"
   ]
  },
  {
   "cell_type": "code",
   "execution_count": 1,
   "id": "adbc6b19",
   "metadata": {
    "execution": {
     "iopub.execute_input": "2022-12-16T21:49:49.743221Z",
     "iopub.status.busy": "2022-12-16T21:49:49.741497Z",
     "iopub.status.idle": "2022-12-16T21:50:49.413362Z",
     "shell.execute_reply": "2022-12-16T21:50:49.411831Z"
    },
    "papermill": {
     "duration": 59.687777,
     "end_time": "2022-12-16T21:50:49.415380",
     "exception": false,
     "start_time": "2022-12-16T21:49:49.727603",
     "status": "completed"
    },
    "tags": []
   },
   "outputs": [
    {
     "name": "stderr",
     "output_type": "stream",
     "text": [
      "Installing package into ‘/usr/local/lib/R/site-library’\n",
      "(as ‘lib’ is unspecified)\n",
      "\n",
      "── \u001b[1mAttaching packages\u001b[22m ─────────────────────────────────────── tidyverse 1.3.2 ──\n",
      "\u001b[32m✔\u001b[39m \u001b[34mggplot2\u001b[39m 3.3.6      \u001b[32m✔\u001b[39m \u001b[34mpurrr  \u001b[39m 0.3.5 \n",
      "\u001b[32m✔\u001b[39m \u001b[34mtibble \u001b[39m 3.1.8      \u001b[32m✔\u001b[39m \u001b[34mdplyr  \u001b[39m 1.0.10\n",
      "\u001b[32m✔\u001b[39m \u001b[34mtidyr  \u001b[39m 1.2.1      \u001b[32m✔\u001b[39m \u001b[34mstringr\u001b[39m 1.4.1 \n",
      "\u001b[32m✔\u001b[39m \u001b[34mreadr  \u001b[39m 2.1.3      \u001b[32m✔\u001b[39m \u001b[34mforcats\u001b[39m 0.5.2 \n",
      "── \u001b[1mConflicts\u001b[22m ────────────────────────────────────────── tidyverse_conflicts() ──\n",
      "\u001b[31m✖\u001b[39m \u001b[34mdplyr\u001b[39m::\u001b[32mfilter()\u001b[39m masks \u001b[34mstats\u001b[39m::filter()\n",
      "\u001b[31m✖\u001b[39m \u001b[34mdplyr\u001b[39m::\u001b[32mlag()\u001b[39m    masks \u001b[34mstats\u001b[39m::lag()\n",
      "\n",
      "Attaching package: ‘lubridate’\n",
      "\n",
      "\n",
      "The following objects are masked from ‘package:base’:\n",
      "\n",
      "    date, intersect, setdiff, union\n",
      "\n",
      "\n",
      "Installing package into ‘/usr/local/lib/R/site-library’\n",
      "(as ‘lib’ is unspecified)\n",
      "\n",
      "also installing the dependency ‘vctrs’\n",
      "\n",
      "\n",
      "Warning message in install.packages(\"ggplot2\"):\n",
      "“installation of package ‘vctrs’ had non-zero exit status”\n",
      "Warning message in install.packages(\"ggplot2\"):\n",
      "“installation of package ‘ggplot2’ had non-zero exit status”\n",
      "Installing package into ‘/usr/local/lib/R/site-library’\n",
      "(as ‘lib’ is unspecified)\n",
      "\n",
      "\n",
      "Attaching package: ‘janitor’\n",
      "\n",
      "\n",
      "The following objects are masked from ‘package:stats’:\n",
      "\n",
      "    chisq.test, fisher.test\n",
      "\n",
      "\n",
      "Installing package into ‘/usr/local/lib/R/site-library’\n",
      "(as ‘lib’ is unspecified)\n",
      "\n"
     ]
    }
   ],
   "source": [
    "install.packages(\"tidyverse\")\n",
    "library(tidyverse)\n",
    "library(lubridate)\n",
    "install.packages(\"ggplot2\")\n",
    "library(ggplot2)\n",
    "install.packages(\"janitor\")\n",
    "library(janitor)\n",
    "install.packages(\"skimr\")\n",
    "library(skimr)"
   ]
  },
  {
   "cell_type": "markdown",
   "id": "50f2f710",
   "metadata": {
    "papermill": {
     "duration": 0.013049,
     "end_time": "2022-12-16T21:50:49.441972",
     "exception": false,
     "start_time": "2022-12-16T21:50:49.428923",
     "status": "completed"
    },
    "tags": []
   },
   "source": [
    "**Loading the csv files we will use**"
   ]
  },
  {
   "cell_type": "code",
   "execution_count": 2,
   "id": "7895375f",
   "metadata": {
    "execution": {
     "iopub.execute_input": "2022-12-16T21:50:49.494787Z",
     "iopub.status.busy": "2022-12-16T21:50:49.469125Z",
     "iopub.status.idle": "2022-12-16T21:50:58.245551Z",
     "shell.execute_reply": "2022-12-16T21:50:58.243896Z"
    },
    "papermill": {
     "duration": 8.793205,
     "end_time": "2022-12-16T21:50:58.247767",
     "exception": false,
     "start_time": "2022-12-16T21:50:49.454562",
     "status": "completed"
    },
    "tags": []
   },
   "outputs": [
    {
     "name": "stderr",
     "output_type": "stream",
     "text": [
      "\u001b[1mRows: \u001b[22m\u001b[34m1108163\u001b[39m \u001b[1mColumns: \u001b[22m\u001b[34m12\u001b[39m\n",
      "\u001b[36m──\u001b[39m \u001b[1mColumn specification\u001b[22m \u001b[36m────────────────────────────────────────────────────────\u001b[39m\n",
      "\u001b[1mDelimiter:\u001b[22m \",\"\n",
      "\u001b[31mchr\u001b[39m  (4): 03 - Rental Start Station Name, 02 - Rental End Station Name, User...\n",
      "\u001b[32mdbl\u001b[39m  (5): 01 - Rental Details Rental ID, 01 - Rental Details Bike ID, 03 - R...\n",
      "\u001b[32mnum\u001b[39m  (1): 01 - Rental Details Duration In Seconds Uncapped\n",
      "\u001b[34mdttm\u001b[39m (2): 01 - Rental Details Local Start Time, 01 - Rental Details Local En...\n",
      "\n",
      "\u001b[36mℹ\u001b[39m Use `spec()` to retrieve the full column specification for this data.\n",
      "\u001b[36mℹ\u001b[39m Specify the column types or set `show_col_types = FALSE` to quiet this message.\n",
      "\u001b[1mRows: \u001b[22m\u001b[34m1640718\u001b[39m \u001b[1mColumns: \u001b[22m\u001b[34m12\u001b[39m\n",
      "\u001b[36m──\u001b[39m \u001b[1mColumn specification\u001b[22m \u001b[36m────────────────────────────────────────────────────────\u001b[39m\n",
      "\u001b[1mDelimiter:\u001b[22m \",\"\n",
      "\u001b[31mchr\u001b[39m  (4): from_station_name, to_station_name, usertype, gender\n",
      "\u001b[32mdbl\u001b[39m  (5): trip_id, bikeid, from_station_id, to_station_id, birthyear\n",
      "\u001b[32mnum\u001b[39m  (1): tripduration\n",
      "\u001b[34mdttm\u001b[39m (2): start_time, end_time\n",
      "\n",
      "\u001b[36mℹ\u001b[39m Use `spec()` to retrieve the full column specification for this data.\n",
      "\u001b[36mℹ\u001b[39m Specify the column types or set `show_col_types = FALSE` to quiet this message.\n",
      "\u001b[1mRows: \u001b[22m\u001b[34m704054\u001b[39m \u001b[1mColumns: \u001b[22m\u001b[34m12\u001b[39m\n",
      "\u001b[36m──\u001b[39m \u001b[1mColumn specification\u001b[22m \u001b[36m────────────────────────────────────────────────────────\u001b[39m\n",
      "\u001b[1mDelimiter:\u001b[22m \",\"\n",
      "\u001b[31mchr\u001b[39m  (4): from_station_name, to_station_name, usertype, gender\n",
      "\u001b[32mdbl\u001b[39m  (5): trip_id, bikeid, from_station_id, to_station_id, birthyear\n",
      "\u001b[32mnum\u001b[39m  (1): tripduration\n",
      "\u001b[34mdttm\u001b[39m (2): start_time, end_time\n",
      "\n",
      "\u001b[36mℹ\u001b[39m Use `spec()` to retrieve the full column specification for this data.\n",
      "\u001b[36mℹ\u001b[39m Specify the column types or set `show_col_types = FALSE` to quiet this message.\n",
      "\u001b[1mRows: \u001b[22m\u001b[34m426887\u001b[39m \u001b[1mColumns: \u001b[22m\u001b[34m13\u001b[39m\n",
      "\u001b[36m──\u001b[39m \u001b[1mColumn specification\u001b[22m \u001b[36m────────────────────────────────────────────────────────\u001b[39m\n",
      "\u001b[1mDelimiter:\u001b[22m \",\"\n",
      "\u001b[31mchr\u001b[39m  (5): ride_id, rideable_type, start_station_name, end_station_name, memb...\n",
      "\u001b[32mdbl\u001b[39m  (6): start_station_id, end_station_id, start_lat, start_lng, end_lat, e...\n",
      "\u001b[34mdttm\u001b[39m (2): started_at, ended_at\n",
      "\n",
      "\u001b[36mℹ\u001b[39m Use `spec()` to retrieve the full column specification for this data.\n",
      "\u001b[36mℹ\u001b[39m Specify the column types or set `show_col_types = FALSE` to quiet this message.\n"
     ]
    }
   ],
   "source": [
    "q2_2019 <- read_csv(\"/kaggle/input/bike-share-datasets/Divvy_Trips_2019_Q2.csv\")\n",
    "q3_2019 <- read_csv(\"/kaggle/input/bike-share-datasets/Divvy_Trips_2019_Q3.csv\")\n",
    "q4_2019 <- read_csv(\"/kaggle/input/bike-share-datasets/Divvy_Trips_2019_Q4.csv\")\n",
    "q1_2020 <- read_csv(\"/kaggle/input/bike-share-datasets/Divvy_Trips_2020_Q1.csv\")"
   ]
  },
  {
   "cell_type": "markdown",
   "id": "0736c9df",
   "metadata": {
    "papermill": {
     "duration": 0.013081,
     "end_time": "2022-12-16T21:50:58.273984",
     "exception": false,
     "start_time": "2022-12-16T21:50:58.260903",
     "status": "completed"
    },
    "tags": []
   },
   "source": [
    "**Explore datasets a little further**\n",
    "\n",
    "We will first compare the column names"
   ]
  },
  {
   "cell_type": "code",
   "execution_count": 3,
   "id": "19b49244",
   "metadata": {
    "execution": {
     "iopub.execute_input": "2022-12-16T21:50:58.303347Z",
     "iopub.status.busy": "2022-12-16T21:50:58.302043Z",
     "iopub.status.idle": "2022-12-16T21:50:58.330596Z",
     "shell.execute_reply": "2022-12-16T21:50:58.329229Z"
    },
    "papermill": {
     "duration": 0.045227,
     "end_time": "2022-12-16T21:50:58.332359",
     "exception": false,
     "start_time": "2022-12-16T21:50:58.287132",
     "status": "completed"
    },
    "tags": []
   },
   "outputs": [
    {
     "data": {
      "text/html": [
       "<style>\n",
       ".list-inline {list-style: none; margin:0; padding: 0}\n",
       ".list-inline>li {display: inline-block}\n",
       ".list-inline>li:not(:last-child)::after {content: \"\\00b7\"; padding: 0 .5ex}\n",
       "</style>\n",
       "<ol class=list-inline><li>'01 - Rental Details Rental ID'</li><li>'01 - Rental Details Local Start Time'</li><li>'01 - Rental Details Local End Time'</li><li>'01 - Rental Details Bike ID'</li><li>'01 - Rental Details Duration In Seconds Uncapped'</li><li>'03 - Rental Start Station ID'</li><li>'03 - Rental Start Station Name'</li><li>'02 - Rental End Station ID'</li><li>'02 - Rental End Station Name'</li><li>'User Type'</li><li>'Member Gender'</li><li>'05 - Member Details Member Birthday Year'</li></ol>\n"
      ],
      "text/latex": [
       "\\begin{enumerate*}\n",
       "\\item '01 - Rental Details Rental ID'\n",
       "\\item '01 - Rental Details Local Start Time'\n",
       "\\item '01 - Rental Details Local End Time'\n",
       "\\item '01 - Rental Details Bike ID'\n",
       "\\item '01 - Rental Details Duration In Seconds Uncapped'\n",
       "\\item '03 - Rental Start Station ID'\n",
       "\\item '03 - Rental Start Station Name'\n",
       "\\item '02 - Rental End Station ID'\n",
       "\\item '02 - Rental End Station Name'\n",
       "\\item 'User Type'\n",
       "\\item 'Member Gender'\n",
       "\\item '05 - Member Details Member Birthday Year'\n",
       "\\end{enumerate*}\n"
      ],
      "text/markdown": [
       "1. '01 - Rental Details Rental ID'\n",
       "2. '01 - Rental Details Local Start Time'\n",
       "3. '01 - Rental Details Local End Time'\n",
       "4. '01 - Rental Details Bike ID'\n",
       "5. '01 - Rental Details Duration In Seconds Uncapped'\n",
       "6. '03 - Rental Start Station ID'\n",
       "7. '03 - Rental Start Station Name'\n",
       "8. '02 - Rental End Station ID'\n",
       "9. '02 - Rental End Station Name'\n",
       "10. 'User Type'\n",
       "11. 'Member Gender'\n",
       "12. '05 - Member Details Member Birthday Year'\n",
       "\n",
       "\n"
      ],
      "text/plain": [
       " [1] \"01 - Rental Details Rental ID\"                   \n",
       " [2] \"01 - Rental Details Local Start Time\"            \n",
       " [3] \"01 - Rental Details Local End Time\"              \n",
       " [4] \"01 - Rental Details Bike ID\"                     \n",
       " [5] \"01 - Rental Details Duration In Seconds Uncapped\"\n",
       " [6] \"03 - Rental Start Station ID\"                    \n",
       " [7] \"03 - Rental Start Station Name\"                  \n",
       " [8] \"02 - Rental End Station ID\"                      \n",
       " [9] \"02 - Rental End Station Name\"                    \n",
       "[10] \"User Type\"                                       \n",
       "[11] \"Member Gender\"                                   \n",
       "[12] \"05 - Member Details Member Birthday Year\"        "
      ]
     },
     "metadata": {},
     "output_type": "display_data"
    },
    {
     "data": {
      "text/html": [
       "<style>\n",
       ".list-inline {list-style: none; margin:0; padding: 0}\n",
       ".list-inline>li {display: inline-block}\n",
       ".list-inline>li:not(:last-child)::after {content: \"\\00b7\"; padding: 0 .5ex}\n",
       "</style>\n",
       "<ol class=list-inline><li>'trip_id'</li><li>'start_time'</li><li>'end_time'</li><li>'bikeid'</li><li>'tripduration'</li><li>'from_station_id'</li><li>'from_station_name'</li><li>'to_station_id'</li><li>'to_station_name'</li><li>'usertype'</li><li>'gender'</li><li>'birthyear'</li></ol>\n"
      ],
      "text/latex": [
       "\\begin{enumerate*}\n",
       "\\item 'trip\\_id'\n",
       "\\item 'start\\_time'\n",
       "\\item 'end\\_time'\n",
       "\\item 'bikeid'\n",
       "\\item 'tripduration'\n",
       "\\item 'from\\_station\\_id'\n",
       "\\item 'from\\_station\\_name'\n",
       "\\item 'to\\_station\\_id'\n",
       "\\item 'to\\_station\\_name'\n",
       "\\item 'usertype'\n",
       "\\item 'gender'\n",
       "\\item 'birthyear'\n",
       "\\end{enumerate*}\n"
      ],
      "text/markdown": [
       "1. 'trip_id'\n",
       "2. 'start_time'\n",
       "3. 'end_time'\n",
       "4. 'bikeid'\n",
       "5. 'tripduration'\n",
       "6. 'from_station_id'\n",
       "7. 'from_station_name'\n",
       "8. 'to_station_id'\n",
       "9. 'to_station_name'\n",
       "10. 'usertype'\n",
       "11. 'gender'\n",
       "12. 'birthyear'\n",
       "\n",
       "\n"
      ],
      "text/plain": [
       " [1] \"trip_id\"           \"start_time\"        \"end_time\"         \n",
       " [4] \"bikeid\"            \"tripduration\"      \"from_station_id\"  \n",
       " [7] \"from_station_name\" \"to_station_id\"     \"to_station_name\"  \n",
       "[10] \"usertype\"          \"gender\"            \"birthyear\"        "
      ]
     },
     "metadata": {},
     "output_type": "display_data"
    },
    {
     "data": {
      "text/html": [
       "<style>\n",
       ".list-inline {list-style: none; margin:0; padding: 0}\n",
       ".list-inline>li {display: inline-block}\n",
       ".list-inline>li:not(:last-child)::after {content: \"\\00b7\"; padding: 0 .5ex}\n",
       "</style>\n",
       "<ol class=list-inline><li>'trip_id'</li><li>'start_time'</li><li>'end_time'</li><li>'bikeid'</li><li>'tripduration'</li><li>'from_station_id'</li><li>'from_station_name'</li><li>'to_station_id'</li><li>'to_station_name'</li><li>'usertype'</li><li>'gender'</li><li>'birthyear'</li></ol>\n"
      ],
      "text/latex": [
       "\\begin{enumerate*}\n",
       "\\item 'trip\\_id'\n",
       "\\item 'start\\_time'\n",
       "\\item 'end\\_time'\n",
       "\\item 'bikeid'\n",
       "\\item 'tripduration'\n",
       "\\item 'from\\_station\\_id'\n",
       "\\item 'from\\_station\\_name'\n",
       "\\item 'to\\_station\\_id'\n",
       "\\item 'to\\_station\\_name'\n",
       "\\item 'usertype'\n",
       "\\item 'gender'\n",
       "\\item 'birthyear'\n",
       "\\end{enumerate*}\n"
      ],
      "text/markdown": [
       "1. 'trip_id'\n",
       "2. 'start_time'\n",
       "3. 'end_time'\n",
       "4. 'bikeid'\n",
       "5. 'tripduration'\n",
       "6. 'from_station_id'\n",
       "7. 'from_station_name'\n",
       "8. 'to_station_id'\n",
       "9. 'to_station_name'\n",
       "10. 'usertype'\n",
       "11. 'gender'\n",
       "12. 'birthyear'\n",
       "\n",
       "\n"
      ],
      "text/plain": [
       " [1] \"trip_id\"           \"start_time\"        \"end_time\"         \n",
       " [4] \"bikeid\"            \"tripduration\"      \"from_station_id\"  \n",
       " [7] \"from_station_name\" \"to_station_id\"     \"to_station_name\"  \n",
       "[10] \"usertype\"          \"gender\"            \"birthyear\"        "
      ]
     },
     "metadata": {},
     "output_type": "display_data"
    },
    {
     "data": {
      "text/html": [
       "<style>\n",
       ".list-inline {list-style: none; margin:0; padding: 0}\n",
       ".list-inline>li {display: inline-block}\n",
       ".list-inline>li:not(:last-child)::after {content: \"\\00b7\"; padding: 0 .5ex}\n",
       "</style>\n",
       "<ol class=list-inline><li>'ride_id'</li><li>'rideable_type'</li><li>'started_at'</li><li>'ended_at'</li><li>'start_station_name'</li><li>'start_station_id'</li><li>'end_station_name'</li><li>'end_station_id'</li><li>'start_lat'</li><li>'start_lng'</li><li>'end_lat'</li><li>'end_lng'</li><li>'member_casual'</li></ol>\n"
      ],
      "text/latex": [
       "\\begin{enumerate*}\n",
       "\\item 'ride\\_id'\n",
       "\\item 'rideable\\_type'\n",
       "\\item 'started\\_at'\n",
       "\\item 'ended\\_at'\n",
       "\\item 'start\\_station\\_name'\n",
       "\\item 'start\\_station\\_id'\n",
       "\\item 'end\\_station\\_name'\n",
       "\\item 'end\\_station\\_id'\n",
       "\\item 'start\\_lat'\n",
       "\\item 'start\\_lng'\n",
       "\\item 'end\\_lat'\n",
       "\\item 'end\\_lng'\n",
       "\\item 'member\\_casual'\n",
       "\\end{enumerate*}\n"
      ],
      "text/markdown": [
       "1. 'ride_id'\n",
       "2. 'rideable_type'\n",
       "3. 'started_at'\n",
       "4. 'ended_at'\n",
       "5. 'start_station_name'\n",
       "6. 'start_station_id'\n",
       "7. 'end_station_name'\n",
       "8. 'end_station_id'\n",
       "9. 'start_lat'\n",
       "10. 'start_lng'\n",
       "11. 'end_lat'\n",
       "12. 'end_lng'\n",
       "13. 'member_casual'\n",
       "\n",
       "\n"
      ],
      "text/plain": [
       " [1] \"ride_id\"            \"rideable_type\"      \"started_at\"        \n",
       " [4] \"ended_at\"           \"start_station_name\" \"start_station_id\"  \n",
       " [7] \"end_station_name\"   \"end_station_id\"     \"start_lat\"         \n",
       "[10] \"start_lng\"          \"end_lat\"            \"end_lng\"           \n",
       "[13] \"member_casual\"     "
      ]
     },
     "metadata": {},
     "output_type": "display_data"
    }
   ],
   "source": [
    "colnames(q2_2019)\n",
    "colnames(q3_2019)\n",
    "colnames(q4_2019)\n",
    "colnames(q1_2020)"
   ]
  },
  {
   "cell_type": "markdown",
   "id": "c1857a77",
   "metadata": {
    "papermill": {
     "duration": 0.014009,
     "end_time": "2022-12-16T21:50:58.360494",
     "exception": false,
     "start_time": "2022-12-16T21:50:58.346485",
     "status": "completed"
    },
    "tags": []
   },
   "source": [
    "**Analysis:** We notice that q3 and q4 of 2019 have the same column names, in the same order. q2 2019 and q1 2020 are a little different"
   ]
  },
  {
   "cell_type": "markdown",
   "id": "f70c4d7a",
   "metadata": {
    "papermill": {
     "duration": 0.014197,
     "end_time": "2022-12-16T21:50:58.388647",
     "exception": false,
     "start_time": "2022-12-16T21:50:58.374450",
     "status": "completed"
    },
    "tags": []
   },
   "source": [
    "**Explore columns information** "
   ]
  },
  {
   "cell_type": "code",
   "execution_count": 4,
   "id": "9ebdf027",
   "metadata": {
    "execution": {
     "iopub.execute_input": "2022-12-16T21:50:58.420033Z",
     "iopub.status.busy": "2022-12-16T21:50:58.418792Z",
     "iopub.status.idle": "2022-12-16T21:50:58.487065Z",
     "shell.execute_reply": "2022-12-16T21:50:58.485767Z"
    },
    "papermill": {
     "duration": 0.0867,
     "end_time": "2022-12-16T21:50:58.489695",
     "exception": false,
     "start_time": "2022-12-16T21:50:58.402995",
     "status": "completed"
    },
    "tags": []
   },
   "outputs": [
    {
     "data": {
      "text/html": [
       "<table class=\"dataframe\">\n",
       "<caption>A tibble: 6 × 12</caption>\n",
       "<thead>\n",
       "\t<tr><th scope=col>01 - Rental Details Rental ID</th><th scope=col>01 - Rental Details Local Start Time</th><th scope=col>01 - Rental Details Local End Time</th><th scope=col>01 - Rental Details Bike ID</th><th scope=col>01 - Rental Details Duration In Seconds Uncapped</th><th scope=col>03 - Rental Start Station ID</th><th scope=col>03 - Rental Start Station Name</th><th scope=col>02 - Rental End Station ID</th><th scope=col>02 - Rental End Station Name</th><th scope=col>User Type</th><th scope=col>Member Gender</th><th scope=col>05 - Member Details Member Birthday Year</th></tr>\n",
       "\t<tr><th scope=col>&lt;dbl&gt;</th><th scope=col>&lt;dttm&gt;</th><th scope=col>&lt;dttm&gt;</th><th scope=col>&lt;dbl&gt;</th><th scope=col>&lt;dbl&gt;</th><th scope=col>&lt;dbl&gt;</th><th scope=col>&lt;chr&gt;</th><th scope=col>&lt;dbl&gt;</th><th scope=col>&lt;chr&gt;</th><th scope=col>&lt;chr&gt;</th><th scope=col>&lt;chr&gt;</th><th scope=col>&lt;dbl&gt;</th></tr>\n",
       "</thead>\n",
       "<tbody>\n",
       "\t<tr><td>22178529</td><td>2019-04-01 00:02:22</td><td>2019-04-01 00:09:48</td><td>6251</td><td> 446</td><td> 81</td><td><span style=white-space:pre-wrap>Daley Center Plaza       </span></td><td> 56</td><td>Desplaines St &amp; Kinzie St</td><td>Subscriber</td><td><span style=white-space:pre-wrap>Male  </span></td><td>1975</td></tr>\n",
       "\t<tr><td>22178530</td><td>2019-04-01 00:03:02</td><td>2019-04-01 00:20:30</td><td>6226</td><td>1048</td><td>317</td><td><span style=white-space:pre-wrap>Wood St &amp; Taylor St      </span></td><td> 59</td><td>Wabash Ave &amp; Roosevelt Rd</td><td>Subscriber</td><td>Female</td><td>1984</td></tr>\n",
       "\t<tr><td>22178531</td><td>2019-04-01 00:11:07</td><td>2019-04-01 00:15:19</td><td>5649</td><td> 252</td><td>283</td><td>LaSalle St &amp; Jackson Blvd</td><td>174</td><td><span style=white-space:pre-wrap>Canal St &amp; Madison St    </span></td><td>Subscriber</td><td><span style=white-space:pre-wrap>Male  </span></td><td>1990</td></tr>\n",
       "\t<tr><td>22178532</td><td>2019-04-01 00:13:01</td><td>2019-04-01 00:18:58</td><td>4151</td><td> 357</td><td> 26</td><td>McClurg Ct &amp; Illinois St </td><td>133</td><td>Kingsbury St &amp; Kinzie St </td><td>Subscriber</td><td><span style=white-space:pre-wrap>Male  </span></td><td>1993</td></tr>\n",
       "\t<tr><td>22178533</td><td>2019-04-01 00:19:26</td><td>2019-04-01 00:36:13</td><td>3270</td><td>1007</td><td>202</td><td><span style=white-space:pre-wrap>Halsted St &amp; 18th St     </span></td><td>129</td><td>Blue Island Ave &amp; 18th St</td><td>Subscriber</td><td><span style=white-space:pre-wrap>Male  </span></td><td>1992</td></tr>\n",
       "\t<tr><td>22178534</td><td>2019-04-01 00:19:39</td><td>2019-04-01 00:23:56</td><td>3123</td><td> 257</td><td>420</td><td><span style=white-space:pre-wrap>Ellis Ave &amp; 55th St      </span></td><td>426</td><td><span style=white-space:pre-wrap>Ellis Ave &amp; 60th St      </span></td><td>Subscriber</td><td><span style=white-space:pre-wrap>Male  </span></td><td>1999</td></tr>\n",
       "</tbody>\n",
       "</table>\n"
      ],
      "text/latex": [
       "A tibble: 6 × 12\n",
       "\\begin{tabular}{llllllllllll}\n",
       " 01 - Rental Details Rental ID & 01 - Rental Details Local Start Time & 01 - Rental Details Local End Time & 01 - Rental Details Bike ID & 01 - Rental Details Duration In Seconds Uncapped & 03 - Rental Start Station ID & 03 - Rental Start Station Name & 02 - Rental End Station ID & 02 - Rental End Station Name & User Type & Member Gender & 05 - Member Details Member Birthday Year\\\\\n",
       " <dbl> & <dttm> & <dttm> & <dbl> & <dbl> & <dbl> & <chr> & <dbl> & <chr> & <chr> & <chr> & <dbl>\\\\\n",
       "\\hline\n",
       "\t 22178529 & 2019-04-01 00:02:22 & 2019-04-01 00:09:48 & 6251 &  446 &  81 & Daley Center Plaza        &  56 & Desplaines St \\& Kinzie St & Subscriber & Male   & 1975\\\\\n",
       "\t 22178530 & 2019-04-01 00:03:02 & 2019-04-01 00:20:30 & 6226 & 1048 & 317 & Wood St \\& Taylor St       &  59 & Wabash Ave \\& Roosevelt Rd & Subscriber & Female & 1984\\\\\n",
       "\t 22178531 & 2019-04-01 00:11:07 & 2019-04-01 00:15:19 & 5649 &  252 & 283 & LaSalle St \\& Jackson Blvd & 174 & Canal St \\& Madison St     & Subscriber & Male   & 1990\\\\\n",
       "\t 22178532 & 2019-04-01 00:13:01 & 2019-04-01 00:18:58 & 4151 &  357 &  26 & McClurg Ct \\& Illinois St  & 133 & Kingsbury St \\& Kinzie St  & Subscriber & Male   & 1993\\\\\n",
       "\t 22178533 & 2019-04-01 00:19:26 & 2019-04-01 00:36:13 & 3270 & 1007 & 202 & Halsted St \\& 18th St      & 129 & Blue Island Ave \\& 18th St & Subscriber & Male   & 1992\\\\\n",
       "\t 22178534 & 2019-04-01 00:19:39 & 2019-04-01 00:23:56 & 3123 &  257 & 420 & Ellis Ave \\& 55th St       & 426 & Ellis Ave \\& 60th St       & Subscriber & Male   & 1999\\\\\n",
       "\\end{tabular}\n"
      ],
      "text/markdown": [
       "\n",
       "A tibble: 6 × 12\n",
       "\n",
       "| 01 - Rental Details Rental ID &lt;dbl&gt; | 01 - Rental Details Local Start Time &lt;dttm&gt; | 01 - Rental Details Local End Time &lt;dttm&gt; | 01 - Rental Details Bike ID &lt;dbl&gt; | 01 - Rental Details Duration In Seconds Uncapped &lt;dbl&gt; | 03 - Rental Start Station ID &lt;dbl&gt; | 03 - Rental Start Station Name &lt;chr&gt; | 02 - Rental End Station ID &lt;dbl&gt; | 02 - Rental End Station Name &lt;chr&gt; | User Type &lt;chr&gt; | Member Gender &lt;chr&gt; | 05 - Member Details Member Birthday Year &lt;dbl&gt; |\n",
       "|---|---|---|---|---|---|---|---|---|---|---|---|\n",
       "| 22178529 | 2019-04-01 00:02:22 | 2019-04-01 00:09:48 | 6251 |  446 |  81 | Daley Center Plaza        |  56 | Desplaines St &amp; Kinzie St | Subscriber | Male   | 1975 |\n",
       "| 22178530 | 2019-04-01 00:03:02 | 2019-04-01 00:20:30 | 6226 | 1048 | 317 | Wood St &amp; Taylor St       |  59 | Wabash Ave &amp; Roosevelt Rd | Subscriber | Female | 1984 |\n",
       "| 22178531 | 2019-04-01 00:11:07 | 2019-04-01 00:15:19 | 5649 |  252 | 283 | LaSalle St &amp; Jackson Blvd | 174 | Canal St &amp; Madison St     | Subscriber | Male   | 1990 |\n",
       "| 22178532 | 2019-04-01 00:13:01 | 2019-04-01 00:18:58 | 4151 |  357 |  26 | McClurg Ct &amp; Illinois St  | 133 | Kingsbury St &amp; Kinzie St  | Subscriber | Male   | 1993 |\n",
       "| 22178533 | 2019-04-01 00:19:26 | 2019-04-01 00:36:13 | 3270 | 1007 | 202 | Halsted St &amp; 18th St      | 129 | Blue Island Ave &amp; 18th St | Subscriber | Male   | 1992 |\n",
       "| 22178534 | 2019-04-01 00:19:39 | 2019-04-01 00:23:56 | 3123 |  257 | 420 | Ellis Ave &amp; 55th St       | 426 | Ellis Ave &amp; 60th St       | Subscriber | Male   | 1999 |\n",
       "\n"
      ],
      "text/plain": [
       "  01 - Rental Details Rental ID 01 - Rental Details Local Start Time\n",
       "1 22178529                      2019-04-01 00:02:22                 \n",
       "2 22178530                      2019-04-01 00:03:02                 \n",
       "3 22178531                      2019-04-01 00:11:07                 \n",
       "4 22178532                      2019-04-01 00:13:01                 \n",
       "5 22178533                      2019-04-01 00:19:26                 \n",
       "6 22178534                      2019-04-01 00:19:39                 \n",
       "  01 - Rental Details Local End Time 01 - Rental Details Bike ID\n",
       "1 2019-04-01 00:09:48                6251                       \n",
       "2 2019-04-01 00:20:30                6226                       \n",
       "3 2019-04-01 00:15:19                5649                       \n",
       "4 2019-04-01 00:18:58                4151                       \n",
       "5 2019-04-01 00:36:13                3270                       \n",
       "6 2019-04-01 00:23:56                3123                       \n",
       "  01 - Rental Details Duration In Seconds Uncapped 03 - Rental Start Station ID\n",
       "1  446                                              81                         \n",
       "2 1048                                             317                         \n",
       "3  252                                             283                         \n",
       "4  357                                              26                         \n",
       "5 1007                                             202                         \n",
       "6  257                                             420                         \n",
       "  03 - Rental Start Station Name 02 - Rental End Station ID\n",
       "1 Daley Center Plaza              56                       \n",
       "2 Wood St & Taylor St             59                       \n",
       "3 LaSalle St & Jackson Blvd      174                       \n",
       "4 McClurg Ct & Illinois St       133                       \n",
       "5 Halsted St & 18th St           129                       \n",
       "6 Ellis Ave & 55th St            426                       \n",
       "  02 - Rental End Station Name User Type  Member Gender\n",
       "1 Desplaines St & Kinzie St    Subscriber Male         \n",
       "2 Wabash Ave & Roosevelt Rd    Subscriber Female       \n",
       "3 Canal St & Madison St        Subscriber Male         \n",
       "4 Kingsbury St & Kinzie St     Subscriber Male         \n",
       "5 Blue Island Ave & 18th St    Subscriber Male         \n",
       "6 Ellis Ave & 60th St          Subscriber Male         \n",
       "  05 - Member Details Member Birthday Year\n",
       "1 1975                                    \n",
       "2 1984                                    \n",
       "3 1990                                    \n",
       "4 1993                                    \n",
       "5 1992                                    \n",
       "6 1999                                    "
      ]
     },
     "metadata": {},
     "output_type": "display_data"
    },
    {
     "data": {
      "text/html": [
       "<table class=\"dataframe\">\n",
       "<caption>A tibble: 6 × 12</caption>\n",
       "<thead>\n",
       "\t<tr><th scope=col>trip_id</th><th scope=col>start_time</th><th scope=col>end_time</th><th scope=col>bikeid</th><th scope=col>tripduration</th><th scope=col>from_station_id</th><th scope=col>from_station_name</th><th scope=col>to_station_id</th><th scope=col>to_station_name</th><th scope=col>usertype</th><th scope=col>gender</th><th scope=col>birthyear</th></tr>\n",
       "\t<tr><th scope=col>&lt;dbl&gt;</th><th scope=col>&lt;dttm&gt;</th><th scope=col>&lt;dttm&gt;</th><th scope=col>&lt;dbl&gt;</th><th scope=col>&lt;dbl&gt;</th><th scope=col>&lt;dbl&gt;</th><th scope=col>&lt;chr&gt;</th><th scope=col>&lt;dbl&gt;</th><th scope=col>&lt;chr&gt;</th><th scope=col>&lt;chr&gt;</th><th scope=col>&lt;chr&gt;</th><th scope=col>&lt;dbl&gt;</th></tr>\n",
       "</thead>\n",
       "<tbody>\n",
       "\t<tr><td>23479388</td><td>2019-07-01 00:00:27</td><td>2019-07-01 00:20:41</td><td>3591</td><td>1214</td><td>117</td><td><span style=white-space:pre-wrap>Wilton Ave &amp; Belmont Ave     </span></td><td>497</td><td><span style=white-space:pre-wrap>Kimball Ave &amp; Belmont Ave    </span></td><td>Subscriber</td><td>Male</td><td>1992</td></tr>\n",
       "\t<tr><td>23479389</td><td>2019-07-01 00:01:16</td><td>2019-07-01 00:18:44</td><td>5353</td><td>1048</td><td>381</td><td><span style=white-space:pre-wrap>Western Ave &amp; Monroe St      </span></td><td>203</td><td><span style=white-space:pre-wrap>Western Ave &amp; 21st St        </span></td><td><span style=white-space:pre-wrap>Customer  </span></td><td><span style=white-space:pre-wrap>NA  </span></td><td><span style=white-space:pre-wrap>  NA</span></td></tr>\n",
       "\t<tr><td>23479390</td><td>2019-07-01 00:01:48</td><td>2019-07-01 00:27:42</td><td>6180</td><td>1554</td><td>313</td><td>Lakeview Ave &amp; Fullerton Pkwy</td><td>144</td><td><span style=white-space:pre-wrap>Larrabee St &amp; Webster Ave    </span></td><td><span style=white-space:pre-wrap>Customer  </span></td><td><span style=white-space:pre-wrap>NA  </span></td><td><span style=white-space:pre-wrap>  NA</span></td></tr>\n",
       "\t<tr><td>23479391</td><td>2019-07-01 00:02:07</td><td>2019-07-01 00:27:10</td><td>5540</td><td>1503</td><td>313</td><td>Lakeview Ave &amp; Fullerton Pkwy</td><td>144</td><td><span style=white-space:pre-wrap>Larrabee St &amp; Webster Ave    </span></td><td><span style=white-space:pre-wrap>Customer  </span></td><td><span style=white-space:pre-wrap>NA  </span></td><td><span style=white-space:pre-wrap>  NA</span></td></tr>\n",
       "\t<tr><td>23479392</td><td>2019-07-01 00:02:13</td><td>2019-07-01 00:22:26</td><td>6014</td><td>1213</td><td>168</td><td><span style=white-space:pre-wrap>Michigan Ave &amp; 14th St       </span></td><td> 62</td><td><span style=white-space:pre-wrap>McCormick Place              </span></td><td><span style=white-space:pre-wrap>Customer  </span></td><td><span style=white-space:pre-wrap>NA  </span></td><td><span style=white-space:pre-wrap>  NA</span></td></tr>\n",
       "\t<tr><td>23479393</td><td>2019-07-01 00:02:21</td><td>2019-07-01 00:07:31</td><td>4941</td><td> 310</td><td>300</td><td><span style=white-space:pre-wrap>Broadway &amp; Barry Ave         </span></td><td>232</td><td>Pine Grove Ave &amp; Waveland Ave</td><td>Subscriber</td><td>Male</td><td>1990</td></tr>\n",
       "</tbody>\n",
       "</table>\n"
      ],
      "text/latex": [
       "A tibble: 6 × 12\n",
       "\\begin{tabular}{llllllllllll}\n",
       " trip\\_id & start\\_time & end\\_time & bikeid & tripduration & from\\_station\\_id & from\\_station\\_name & to\\_station\\_id & to\\_station\\_name & usertype & gender & birthyear\\\\\n",
       " <dbl> & <dttm> & <dttm> & <dbl> & <dbl> & <dbl> & <chr> & <dbl> & <chr> & <chr> & <chr> & <dbl>\\\\\n",
       "\\hline\n",
       "\t 23479388 & 2019-07-01 00:00:27 & 2019-07-01 00:20:41 & 3591 & 1214 & 117 & Wilton Ave \\& Belmont Ave      & 497 & Kimball Ave \\& Belmont Ave     & Subscriber & Male & 1992\\\\\n",
       "\t 23479389 & 2019-07-01 00:01:16 & 2019-07-01 00:18:44 & 5353 & 1048 & 381 & Western Ave \\& Monroe St       & 203 & Western Ave \\& 21st St         & Customer   & NA   &   NA\\\\\n",
       "\t 23479390 & 2019-07-01 00:01:48 & 2019-07-01 00:27:42 & 6180 & 1554 & 313 & Lakeview Ave \\& Fullerton Pkwy & 144 & Larrabee St \\& Webster Ave     & Customer   & NA   &   NA\\\\\n",
       "\t 23479391 & 2019-07-01 00:02:07 & 2019-07-01 00:27:10 & 5540 & 1503 & 313 & Lakeview Ave \\& Fullerton Pkwy & 144 & Larrabee St \\& Webster Ave     & Customer   & NA   &   NA\\\\\n",
       "\t 23479392 & 2019-07-01 00:02:13 & 2019-07-01 00:22:26 & 6014 & 1213 & 168 & Michigan Ave \\& 14th St        &  62 & McCormick Place               & Customer   & NA   &   NA\\\\\n",
       "\t 23479393 & 2019-07-01 00:02:21 & 2019-07-01 00:07:31 & 4941 &  310 & 300 & Broadway \\& Barry Ave          & 232 & Pine Grove Ave \\& Waveland Ave & Subscriber & Male & 1990\\\\\n",
       "\\end{tabular}\n"
      ],
      "text/markdown": [
       "\n",
       "A tibble: 6 × 12\n",
       "\n",
       "| trip_id &lt;dbl&gt; | start_time &lt;dttm&gt; | end_time &lt;dttm&gt; | bikeid &lt;dbl&gt; | tripduration &lt;dbl&gt; | from_station_id &lt;dbl&gt; | from_station_name &lt;chr&gt; | to_station_id &lt;dbl&gt; | to_station_name &lt;chr&gt; | usertype &lt;chr&gt; | gender &lt;chr&gt; | birthyear &lt;dbl&gt; |\n",
       "|---|---|---|---|---|---|---|---|---|---|---|---|\n",
       "| 23479388 | 2019-07-01 00:00:27 | 2019-07-01 00:20:41 | 3591 | 1214 | 117 | Wilton Ave &amp; Belmont Ave      | 497 | Kimball Ave &amp; Belmont Ave     | Subscriber | Male | 1992 |\n",
       "| 23479389 | 2019-07-01 00:01:16 | 2019-07-01 00:18:44 | 5353 | 1048 | 381 | Western Ave &amp; Monroe St       | 203 | Western Ave &amp; 21st St         | Customer   | NA   |   NA |\n",
       "| 23479390 | 2019-07-01 00:01:48 | 2019-07-01 00:27:42 | 6180 | 1554 | 313 | Lakeview Ave &amp; Fullerton Pkwy | 144 | Larrabee St &amp; Webster Ave     | Customer   | NA   |   NA |\n",
       "| 23479391 | 2019-07-01 00:02:07 | 2019-07-01 00:27:10 | 5540 | 1503 | 313 | Lakeview Ave &amp; Fullerton Pkwy | 144 | Larrabee St &amp; Webster Ave     | Customer   | NA   |   NA |\n",
       "| 23479392 | 2019-07-01 00:02:13 | 2019-07-01 00:22:26 | 6014 | 1213 | 168 | Michigan Ave &amp; 14th St        |  62 | McCormick Place               | Customer   | NA   |   NA |\n",
       "| 23479393 | 2019-07-01 00:02:21 | 2019-07-01 00:07:31 | 4941 |  310 | 300 | Broadway &amp; Barry Ave          | 232 | Pine Grove Ave &amp; Waveland Ave | Subscriber | Male | 1990 |\n",
       "\n"
      ],
      "text/plain": [
       "  trip_id  start_time          end_time            bikeid tripduration\n",
       "1 23479388 2019-07-01 00:00:27 2019-07-01 00:20:41 3591   1214        \n",
       "2 23479389 2019-07-01 00:01:16 2019-07-01 00:18:44 5353   1048        \n",
       "3 23479390 2019-07-01 00:01:48 2019-07-01 00:27:42 6180   1554        \n",
       "4 23479391 2019-07-01 00:02:07 2019-07-01 00:27:10 5540   1503        \n",
       "5 23479392 2019-07-01 00:02:13 2019-07-01 00:22:26 6014   1213        \n",
       "6 23479393 2019-07-01 00:02:21 2019-07-01 00:07:31 4941    310        \n",
       "  from_station_id from_station_name             to_station_id\n",
       "1 117             Wilton Ave & Belmont Ave      497          \n",
       "2 381             Western Ave & Monroe St       203          \n",
       "3 313             Lakeview Ave & Fullerton Pkwy 144          \n",
       "4 313             Lakeview Ave & Fullerton Pkwy 144          \n",
       "5 168             Michigan Ave & 14th St         62          \n",
       "6 300             Broadway & Barry Ave          232          \n",
       "  to_station_name               usertype   gender birthyear\n",
       "1 Kimball Ave & Belmont Ave     Subscriber Male   1992     \n",
       "2 Western Ave & 21st St         Customer   NA       NA     \n",
       "3 Larrabee St & Webster Ave     Customer   NA       NA     \n",
       "4 Larrabee St & Webster Ave     Customer   NA       NA     \n",
       "5 McCormick Place               Customer   NA       NA     \n",
       "6 Pine Grove Ave & Waveland Ave Subscriber Male   1990     "
      ]
     },
     "metadata": {},
     "output_type": "display_data"
    },
    {
     "data": {
      "text/html": [
       "<table class=\"dataframe\">\n",
       "<caption>A tibble: 6 × 12</caption>\n",
       "<thead>\n",
       "\t<tr><th scope=col>trip_id</th><th scope=col>start_time</th><th scope=col>end_time</th><th scope=col>bikeid</th><th scope=col>tripduration</th><th scope=col>from_station_id</th><th scope=col>from_station_name</th><th scope=col>to_station_id</th><th scope=col>to_station_name</th><th scope=col>usertype</th><th scope=col>gender</th><th scope=col>birthyear</th></tr>\n",
       "\t<tr><th scope=col>&lt;dbl&gt;</th><th scope=col>&lt;dttm&gt;</th><th scope=col>&lt;dttm&gt;</th><th scope=col>&lt;dbl&gt;</th><th scope=col>&lt;dbl&gt;</th><th scope=col>&lt;dbl&gt;</th><th scope=col>&lt;chr&gt;</th><th scope=col>&lt;dbl&gt;</th><th scope=col>&lt;chr&gt;</th><th scope=col>&lt;chr&gt;</th><th scope=col>&lt;chr&gt;</th><th scope=col>&lt;dbl&gt;</th></tr>\n",
       "</thead>\n",
       "<tbody>\n",
       "\t<tr><td>25223640</td><td>2019-10-01 00:01:39</td><td>2019-10-01 00:17:20</td><td>2215</td><td> 940</td><td> 20</td><td><span style=white-space:pre-wrap>Sheffield Ave &amp; Kingsbury St  </span></td><td>309</td><td><span style=white-space:pre-wrap>Leavitt St &amp; Armitage Ave  </span></td><td>Subscriber</td><td><span style=white-space:pre-wrap>Male  </span></td><td>1987</td></tr>\n",
       "\t<tr><td>25223641</td><td>2019-10-01 00:02:16</td><td>2019-10-01 00:06:34</td><td>6328</td><td> 258</td><td> 19</td><td>Throop (Loomis) St &amp; Taylor St</td><td>241</td><td><span style=white-space:pre-wrap>Morgan St &amp; Polk St        </span></td><td>Subscriber</td><td><span style=white-space:pre-wrap>Male  </span></td><td>1998</td></tr>\n",
       "\t<tr><td>25223642</td><td>2019-10-01 00:04:32</td><td>2019-10-01 00:18:43</td><td>3003</td><td> 850</td><td> 84</td><td><span style=white-space:pre-wrap>Milwaukee Ave &amp; Grand Ave     </span></td><td>199</td><td><span style=white-space:pre-wrap>Wabash Ave &amp; Grand Ave     </span></td><td>Subscriber</td><td>Female</td><td>1991</td></tr>\n",
       "\t<tr><td>25223643</td><td>2019-10-01 00:04:32</td><td>2019-10-01 00:43:43</td><td>3275</td><td>2350</td><td>313</td><td>Lakeview Ave &amp; Fullerton Pkwy </td><td>290</td><td><span style=white-space:pre-wrap>Kedzie Ave &amp; Palmer Ct     </span></td><td>Subscriber</td><td><span style=white-space:pre-wrap>Male  </span></td><td>1990</td></tr>\n",
       "\t<tr><td>25223644</td><td>2019-10-01 00:04:34</td><td>2019-10-01 00:35:42</td><td>5294</td><td>1867</td><td>210</td><td><span style=white-space:pre-wrap>Ashland Ave &amp; Division St     </span></td><td>382</td><td>Western Ave &amp; Congress Pkwy</td><td>Subscriber</td><td><span style=white-space:pre-wrap>Male  </span></td><td>1987</td></tr>\n",
       "\t<tr><td>25223645</td><td>2019-10-01 00:04:38</td><td>2019-10-01 00:10:51</td><td>1891</td><td> 373</td><td>156</td><td><span style=white-space:pre-wrap>Clark St &amp; Wellington Ave     </span></td><td>226</td><td><span style=white-space:pre-wrap>Racine Ave &amp; Belmont Ave   </span></td><td>Subscriber</td><td>Female</td><td>1994</td></tr>\n",
       "</tbody>\n",
       "</table>\n"
      ],
      "text/latex": [
       "A tibble: 6 × 12\n",
       "\\begin{tabular}{llllllllllll}\n",
       " trip\\_id & start\\_time & end\\_time & bikeid & tripduration & from\\_station\\_id & from\\_station\\_name & to\\_station\\_id & to\\_station\\_name & usertype & gender & birthyear\\\\\n",
       " <dbl> & <dttm> & <dttm> & <dbl> & <dbl> & <dbl> & <chr> & <dbl> & <chr> & <chr> & <chr> & <dbl>\\\\\n",
       "\\hline\n",
       "\t 25223640 & 2019-10-01 00:01:39 & 2019-10-01 00:17:20 & 2215 &  940 &  20 & Sheffield Ave \\& Kingsbury St   & 309 & Leavitt St \\& Armitage Ave   & Subscriber & Male   & 1987\\\\\n",
       "\t 25223641 & 2019-10-01 00:02:16 & 2019-10-01 00:06:34 & 6328 &  258 &  19 & Throop (Loomis) St \\& Taylor St & 241 & Morgan St \\& Polk St         & Subscriber & Male   & 1998\\\\\n",
       "\t 25223642 & 2019-10-01 00:04:32 & 2019-10-01 00:18:43 & 3003 &  850 &  84 & Milwaukee Ave \\& Grand Ave      & 199 & Wabash Ave \\& Grand Ave      & Subscriber & Female & 1991\\\\\n",
       "\t 25223643 & 2019-10-01 00:04:32 & 2019-10-01 00:43:43 & 3275 & 2350 & 313 & Lakeview Ave \\& Fullerton Pkwy  & 290 & Kedzie Ave \\& Palmer Ct      & Subscriber & Male   & 1990\\\\\n",
       "\t 25223644 & 2019-10-01 00:04:34 & 2019-10-01 00:35:42 & 5294 & 1867 & 210 & Ashland Ave \\& Division St      & 382 & Western Ave \\& Congress Pkwy & Subscriber & Male   & 1987\\\\\n",
       "\t 25223645 & 2019-10-01 00:04:38 & 2019-10-01 00:10:51 & 1891 &  373 & 156 & Clark St \\& Wellington Ave      & 226 & Racine Ave \\& Belmont Ave    & Subscriber & Female & 1994\\\\\n",
       "\\end{tabular}\n"
      ],
      "text/markdown": [
       "\n",
       "A tibble: 6 × 12\n",
       "\n",
       "| trip_id &lt;dbl&gt; | start_time &lt;dttm&gt; | end_time &lt;dttm&gt; | bikeid &lt;dbl&gt; | tripduration &lt;dbl&gt; | from_station_id &lt;dbl&gt; | from_station_name &lt;chr&gt; | to_station_id &lt;dbl&gt; | to_station_name &lt;chr&gt; | usertype &lt;chr&gt; | gender &lt;chr&gt; | birthyear &lt;dbl&gt; |\n",
       "|---|---|---|---|---|---|---|---|---|---|---|---|\n",
       "| 25223640 | 2019-10-01 00:01:39 | 2019-10-01 00:17:20 | 2215 |  940 |  20 | Sheffield Ave &amp; Kingsbury St   | 309 | Leavitt St &amp; Armitage Ave   | Subscriber | Male   | 1987 |\n",
       "| 25223641 | 2019-10-01 00:02:16 | 2019-10-01 00:06:34 | 6328 |  258 |  19 | Throop (Loomis) St &amp; Taylor St | 241 | Morgan St &amp; Polk St         | Subscriber | Male   | 1998 |\n",
       "| 25223642 | 2019-10-01 00:04:32 | 2019-10-01 00:18:43 | 3003 |  850 |  84 | Milwaukee Ave &amp; Grand Ave      | 199 | Wabash Ave &amp; Grand Ave      | Subscriber | Female | 1991 |\n",
       "| 25223643 | 2019-10-01 00:04:32 | 2019-10-01 00:43:43 | 3275 | 2350 | 313 | Lakeview Ave &amp; Fullerton Pkwy  | 290 | Kedzie Ave &amp; Palmer Ct      | Subscriber | Male   | 1990 |\n",
       "| 25223644 | 2019-10-01 00:04:34 | 2019-10-01 00:35:42 | 5294 | 1867 | 210 | Ashland Ave &amp; Division St      | 382 | Western Ave &amp; Congress Pkwy | Subscriber | Male   | 1987 |\n",
       "| 25223645 | 2019-10-01 00:04:38 | 2019-10-01 00:10:51 | 1891 |  373 | 156 | Clark St &amp; Wellington Ave      | 226 | Racine Ave &amp; Belmont Ave    | Subscriber | Female | 1994 |\n",
       "\n"
      ],
      "text/plain": [
       "  trip_id  start_time          end_time            bikeid tripduration\n",
       "1 25223640 2019-10-01 00:01:39 2019-10-01 00:17:20 2215    940        \n",
       "2 25223641 2019-10-01 00:02:16 2019-10-01 00:06:34 6328    258        \n",
       "3 25223642 2019-10-01 00:04:32 2019-10-01 00:18:43 3003    850        \n",
       "4 25223643 2019-10-01 00:04:32 2019-10-01 00:43:43 3275   2350        \n",
       "5 25223644 2019-10-01 00:04:34 2019-10-01 00:35:42 5294   1867        \n",
       "6 25223645 2019-10-01 00:04:38 2019-10-01 00:10:51 1891    373        \n",
       "  from_station_id from_station_name              to_station_id\n",
       "1  20             Sheffield Ave & Kingsbury St   309          \n",
       "2  19             Throop (Loomis) St & Taylor St 241          \n",
       "3  84             Milwaukee Ave & Grand Ave      199          \n",
       "4 313             Lakeview Ave & Fullerton Pkwy  290          \n",
       "5 210             Ashland Ave & Division St      382          \n",
       "6 156             Clark St & Wellington Ave      226          \n",
       "  to_station_name             usertype   gender birthyear\n",
       "1 Leavitt St & Armitage Ave   Subscriber Male   1987     \n",
       "2 Morgan St & Polk St         Subscriber Male   1998     \n",
       "3 Wabash Ave & Grand Ave      Subscriber Female 1991     \n",
       "4 Kedzie Ave & Palmer Ct      Subscriber Male   1990     \n",
       "5 Western Ave & Congress Pkwy Subscriber Male   1987     \n",
       "6 Racine Ave & Belmont Ave    Subscriber Female 1994     "
      ]
     },
     "metadata": {},
     "output_type": "display_data"
    },
    {
     "data": {
      "text/html": [
       "<table class=\"dataframe\">\n",
       "<caption>A tibble: 6 × 13</caption>\n",
       "<thead>\n",
       "\t<tr><th scope=col>ride_id</th><th scope=col>rideable_type</th><th scope=col>started_at</th><th scope=col>ended_at</th><th scope=col>start_station_name</th><th scope=col>start_station_id</th><th scope=col>end_station_name</th><th scope=col>end_station_id</th><th scope=col>start_lat</th><th scope=col>start_lng</th><th scope=col>end_lat</th><th scope=col>end_lng</th><th scope=col>member_casual</th></tr>\n",
       "\t<tr><th scope=col>&lt;chr&gt;</th><th scope=col>&lt;chr&gt;</th><th scope=col>&lt;dttm&gt;</th><th scope=col>&lt;dttm&gt;</th><th scope=col>&lt;chr&gt;</th><th scope=col>&lt;dbl&gt;</th><th scope=col>&lt;chr&gt;</th><th scope=col>&lt;dbl&gt;</th><th scope=col>&lt;dbl&gt;</th><th scope=col>&lt;dbl&gt;</th><th scope=col>&lt;dbl&gt;</th><th scope=col>&lt;dbl&gt;</th><th scope=col>&lt;chr&gt;</th></tr>\n",
       "</thead>\n",
       "<tbody>\n",
       "\t<tr><td>EACB19130B0CDA4A</td><td>docked_bike</td><td>2020-01-21 20:06:59</td><td>2020-01-21 20:14:30</td><td>Western Ave &amp; Leland Ave</td><td>239</td><td><span style=white-space:pre-wrap>Clark St &amp; Leland Ave         </span></td><td>326</td><td>41.9665</td><td>-87.6884</td><td>41.9671</td><td>-87.6674</td><td>member</td></tr>\n",
       "\t<tr><td>8FED874C809DC021</td><td>docked_bike</td><td>2020-01-30 14:22:39</td><td>2020-01-30 14:26:22</td><td>Clark St &amp; Montrose Ave </td><td>234</td><td>Southport Ave &amp; Irving Park Rd</td><td>318</td><td>41.9616</td><td>-87.6660</td><td>41.9542</td><td>-87.6644</td><td>member</td></tr>\n",
       "\t<tr><td>789F3C21E472CA96</td><td>docked_bike</td><td>2020-01-09 19:29:26</td><td>2020-01-09 19:32:17</td><td><span style=white-space:pre-wrap>Broadway &amp; Belmont Ave  </span></td><td>296</td><td><span style=white-space:pre-wrap>Wilton Ave &amp; Belmont Ave      </span></td><td>117</td><td>41.9401</td><td>-87.6455</td><td>41.9402</td><td>-87.6530</td><td>member</td></tr>\n",
       "\t<tr><td>C9A388DAC6ABF313</td><td>docked_bike</td><td>2020-01-06 16:17:07</td><td>2020-01-06 16:25:56</td><td><span style=white-space:pre-wrap>Clark St &amp; Randolph St  </span></td><td> 51</td><td><span style=white-space:pre-wrap>Fairbanks Ct &amp; Grand Ave      </span></td><td> 24</td><td>41.8846</td><td>-87.6319</td><td>41.8918</td><td>-87.6206</td><td>member</td></tr>\n",
       "\t<tr><td>943BC3CBECCFD662</td><td>docked_bike</td><td>2020-01-30 08:37:16</td><td>2020-01-30 08:42:48</td><td><span style=white-space:pre-wrap>Clinton St &amp; Lake St    </span></td><td> 66</td><td><span style=white-space:pre-wrap>Wells St &amp; Hubbard St         </span></td><td>212</td><td>41.8856</td><td>-87.6418</td><td>41.8899</td><td>-87.6343</td><td>member</td></tr>\n",
       "\t<tr><td>6D9C8A6938165C11</td><td>docked_bike</td><td>2020-01-10 12:33:05</td><td>2020-01-10 12:37:54</td><td><span style=white-space:pre-wrap>Wells St &amp; Hubbard St   </span></td><td>212</td><td><span style=white-space:pre-wrap>Desplaines St &amp; Randolph St   </span></td><td> 96</td><td>41.8899</td><td>-87.6343</td><td>41.8846</td><td>-87.6446</td><td>member</td></tr>\n",
       "</tbody>\n",
       "</table>\n"
      ],
      "text/latex": [
       "A tibble: 6 × 13\n",
       "\\begin{tabular}{lllllllllllll}\n",
       " ride\\_id & rideable\\_type & started\\_at & ended\\_at & start\\_station\\_name & start\\_station\\_id & end\\_station\\_name & end\\_station\\_id & start\\_lat & start\\_lng & end\\_lat & end\\_lng & member\\_casual\\\\\n",
       " <chr> & <chr> & <dttm> & <dttm> & <chr> & <dbl> & <chr> & <dbl> & <dbl> & <dbl> & <dbl> & <dbl> & <chr>\\\\\n",
       "\\hline\n",
       "\t EACB19130B0CDA4A & docked\\_bike & 2020-01-21 20:06:59 & 2020-01-21 20:14:30 & Western Ave \\& Leland Ave & 239 & Clark St \\& Leland Ave          & 326 & 41.9665 & -87.6884 & 41.9671 & -87.6674 & member\\\\\n",
       "\t 8FED874C809DC021 & docked\\_bike & 2020-01-30 14:22:39 & 2020-01-30 14:26:22 & Clark St \\& Montrose Ave  & 234 & Southport Ave \\& Irving Park Rd & 318 & 41.9616 & -87.6660 & 41.9542 & -87.6644 & member\\\\\n",
       "\t 789F3C21E472CA96 & docked\\_bike & 2020-01-09 19:29:26 & 2020-01-09 19:32:17 & Broadway \\& Belmont Ave   & 296 & Wilton Ave \\& Belmont Ave       & 117 & 41.9401 & -87.6455 & 41.9402 & -87.6530 & member\\\\\n",
       "\t C9A388DAC6ABF313 & docked\\_bike & 2020-01-06 16:17:07 & 2020-01-06 16:25:56 & Clark St \\& Randolph St   &  51 & Fairbanks Ct \\& Grand Ave       &  24 & 41.8846 & -87.6319 & 41.8918 & -87.6206 & member\\\\\n",
       "\t 943BC3CBECCFD662 & docked\\_bike & 2020-01-30 08:37:16 & 2020-01-30 08:42:48 & Clinton St \\& Lake St     &  66 & Wells St \\& Hubbard St          & 212 & 41.8856 & -87.6418 & 41.8899 & -87.6343 & member\\\\\n",
       "\t 6D9C8A6938165C11 & docked\\_bike & 2020-01-10 12:33:05 & 2020-01-10 12:37:54 & Wells St \\& Hubbard St    & 212 & Desplaines St \\& Randolph St    &  96 & 41.8899 & -87.6343 & 41.8846 & -87.6446 & member\\\\\n",
       "\\end{tabular}\n"
      ],
      "text/markdown": [
       "\n",
       "A tibble: 6 × 13\n",
       "\n",
       "| ride_id &lt;chr&gt; | rideable_type &lt;chr&gt; | started_at &lt;dttm&gt; | ended_at &lt;dttm&gt; | start_station_name &lt;chr&gt; | start_station_id &lt;dbl&gt; | end_station_name &lt;chr&gt; | end_station_id &lt;dbl&gt; | start_lat &lt;dbl&gt; | start_lng &lt;dbl&gt; | end_lat &lt;dbl&gt; | end_lng &lt;dbl&gt; | member_casual &lt;chr&gt; |\n",
       "|---|---|---|---|---|---|---|---|---|---|---|---|---|\n",
       "| EACB19130B0CDA4A | docked_bike | 2020-01-21 20:06:59 | 2020-01-21 20:14:30 | Western Ave &amp; Leland Ave | 239 | Clark St &amp; Leland Ave          | 326 | 41.9665 | -87.6884 | 41.9671 | -87.6674 | member |\n",
       "| 8FED874C809DC021 | docked_bike | 2020-01-30 14:22:39 | 2020-01-30 14:26:22 | Clark St &amp; Montrose Ave  | 234 | Southport Ave &amp; Irving Park Rd | 318 | 41.9616 | -87.6660 | 41.9542 | -87.6644 | member |\n",
       "| 789F3C21E472CA96 | docked_bike | 2020-01-09 19:29:26 | 2020-01-09 19:32:17 | Broadway &amp; Belmont Ave   | 296 | Wilton Ave &amp; Belmont Ave       | 117 | 41.9401 | -87.6455 | 41.9402 | -87.6530 | member |\n",
       "| C9A388DAC6ABF313 | docked_bike | 2020-01-06 16:17:07 | 2020-01-06 16:25:56 | Clark St &amp; Randolph St   |  51 | Fairbanks Ct &amp; Grand Ave       |  24 | 41.8846 | -87.6319 | 41.8918 | -87.6206 | member |\n",
       "| 943BC3CBECCFD662 | docked_bike | 2020-01-30 08:37:16 | 2020-01-30 08:42:48 | Clinton St &amp; Lake St     |  66 | Wells St &amp; Hubbard St          | 212 | 41.8856 | -87.6418 | 41.8899 | -87.6343 | member |\n",
       "| 6D9C8A6938165C11 | docked_bike | 2020-01-10 12:33:05 | 2020-01-10 12:37:54 | Wells St &amp; Hubbard St    | 212 | Desplaines St &amp; Randolph St    |  96 | 41.8899 | -87.6343 | 41.8846 | -87.6446 | member |\n",
       "\n"
      ],
      "text/plain": [
       "  ride_id          rideable_type started_at          ended_at           \n",
       "1 EACB19130B0CDA4A docked_bike   2020-01-21 20:06:59 2020-01-21 20:14:30\n",
       "2 8FED874C809DC021 docked_bike   2020-01-30 14:22:39 2020-01-30 14:26:22\n",
       "3 789F3C21E472CA96 docked_bike   2020-01-09 19:29:26 2020-01-09 19:32:17\n",
       "4 C9A388DAC6ABF313 docked_bike   2020-01-06 16:17:07 2020-01-06 16:25:56\n",
       "5 943BC3CBECCFD662 docked_bike   2020-01-30 08:37:16 2020-01-30 08:42:48\n",
       "6 6D9C8A6938165C11 docked_bike   2020-01-10 12:33:05 2020-01-10 12:37:54\n",
       "  start_station_name       start_station_id end_station_name              \n",
       "1 Western Ave & Leland Ave 239              Clark St & Leland Ave         \n",
       "2 Clark St & Montrose Ave  234              Southport Ave & Irving Park Rd\n",
       "3 Broadway & Belmont Ave   296              Wilton Ave & Belmont Ave      \n",
       "4 Clark St & Randolph St    51              Fairbanks Ct & Grand Ave      \n",
       "5 Clinton St & Lake St      66              Wells St & Hubbard St         \n",
       "6 Wells St & Hubbard St    212              Desplaines St & Randolph St   \n",
       "  end_station_id start_lat start_lng end_lat end_lng  member_casual\n",
       "1 326            41.9665   -87.6884  41.9671 -87.6674 member       \n",
       "2 318            41.9616   -87.6660  41.9542 -87.6644 member       \n",
       "3 117            41.9401   -87.6455  41.9402 -87.6530 member       \n",
       "4  24            41.8846   -87.6319  41.8918 -87.6206 member       \n",
       "5 212            41.8856   -87.6418  41.8899 -87.6343 member       \n",
       "6  96            41.8899   -87.6343  41.8846 -87.6446 member       "
      ]
     },
     "metadata": {},
     "output_type": "display_data"
    }
   ],
   "source": [
    "head(q2_2019)\n",
    "head(q3_2019)\n",
    "head(q4_2019)\n",
    "head(q1_2020)"
   ]
  },
  {
   "cell_type": "markdown",
   "id": "9767b197",
   "metadata": {
    "papermill": {
     "duration": 0.014917,
     "end_time": "2022-12-16T21:50:58.519662",
     "exception": false,
     "start_time": "2022-12-16T21:50:58.504745",
     "status": "completed"
    },
    "tags": []
   },
   "source": [
    "**Renaming columns**\n",
    "\n",
    "Before joining datasets we want the column names to match up. The column names changed in q1 2020, so we want to work with the most updated format."
   ]
  },
  {
   "cell_type": "code",
   "execution_count": 5,
   "id": "a47a41e0",
   "metadata": {
    "execution": {
     "iopub.execute_input": "2022-12-16T21:50:58.552326Z",
     "iopub.status.busy": "2022-12-16T21:50:58.551040Z",
     "iopub.status.idle": "2022-12-16T21:50:58.616152Z",
     "shell.execute_reply": "2022-12-16T21:50:58.614580Z"
    },
    "papermill": {
     "duration": 0.083651,
     "end_time": "2022-12-16T21:50:58.618081",
     "exception": false,
     "start_time": "2022-12-16T21:50:58.534430",
     "status": "completed"
    },
    "tags": []
   },
   "outputs": [],
   "source": [
    "q2_2019 <- rename(q2_2019, ride_id=\"01 - Rental Details Rental ID\",\n",
    "                  rideable_type=\"01 - Rental Details Bike ID\",\n",
    "                  started_at=\"01 - Rental Details Local Start Time\",\n",
    "                  ended_at=\"01 - Rental Details Local End Time\",\n",
    "                  start_station_name=\"03 - Rental Start Station Name\",\n",
    "                  start_station_id=\"03 - Rental Start Station ID\",\n",
    "                  end_station_name=\"02 - Rental End Station Name\",\n",
    "                  end_station_id=\"02 - Rental End Station ID\",\n",
    "                  member_casual=\"User Type\")\n",
    "\n",
    "q3_2019 <- rename(q3_2019, ride_id=trip_id,\n",
    "                  rideable_type=bikeid,\n",
    "                  started_at=start_time,\n",
    "                  ended_at=end_time,\n",
    "                  start_station_name=from_station_name,\n",
    "                  start_station_id=from_station_id,\n",
    "                  end_station_name=to_station_name,\n",
    "                  end_station_id=to_station_id,\n",
    "                  member_casual=usertype)\n",
    "\n",
    "q4_2019 <- rename(q4_2019, ride_id=trip_id,\n",
    "                  rideable_type=bikeid,\n",
    "                  started_at=start_time,\n",
    "                  ended_at=end_time,\n",
    "                  start_station_name=from_station_name,\n",
    "                  start_station_id=from_station_id,\n",
    "                  end_station_name=to_station_name,\n",
    "                  end_station_id=to_station_id,\n",
    "                  member_casual=usertype)"
   ]
  },
  {
   "cell_type": "markdown",
   "id": "c88131a4",
   "metadata": {
    "papermill": {
     "duration": 0.014919,
     "end_time": "2022-12-16T21:50:58.647810",
     "exception": false,
     "start_time": "2022-12-16T21:50:58.632891",
     "status": "completed"
    },
    "tags": []
   },
   "source": [
    "**Removing unwanted column names**\n",
    "\n",
    "We will remove columns names that do not match up with one another, that we will not be using."
   ]
  },
  {
   "cell_type": "code",
   "execution_count": 6,
   "id": "e1630672",
   "metadata": {
    "execution": {
     "iopub.execute_input": "2022-12-16T21:50:58.680637Z",
     "iopub.status.busy": "2022-12-16T21:50:58.679310Z",
     "iopub.status.idle": "2022-12-16T21:50:58.715048Z",
     "shell.execute_reply": "2022-12-16T21:50:58.713386Z"
    },
    "papermill": {
     "duration": 0.055082,
     "end_time": "2022-12-16T21:50:58.717703",
     "exception": false,
     "start_time": "2022-12-16T21:50:58.662621",
     "status": "completed"
    },
    "tags": []
   },
   "outputs": [],
   "source": [
    "q2_2019 <- q2_2019 %>% \n",
    "  select(-c(\"01 - Rental Details Duration In Seconds Uncapped\", \"Member Gender\", \"05 - Member Details Member Birthday Year\"))\n",
    "q3_2019 <- q3_2019 %>% \n",
    "  select(-c(\"tripduration\", \"gender\", \"birthyear\"))\n",
    "q4_2019 <- q4_2019 %>% \n",
    "  select(-c(\"tripduration\", \"gender\", \"birthyear\"))\n",
    "q1_2020 <- q1_2020 %>% \n",
    "  select(-c(start_lat, start_lng, end_lat,end_lng))"
   ]
  },
  {
   "cell_type": "markdown",
   "id": "710a3e45",
   "metadata": {
    "papermill": {
     "duration": 0.01503,
     "end_time": "2022-12-16T21:50:58.748624",
     "exception": false,
     "start_time": "2022-12-16T21:50:58.733594",
     "status": "completed"
    },
    "tags": []
   },
   "source": [
    "**Explore columns data type**\n",
    "\n",
    "Lets check out the columns data types, to make sure they are consistent all the way through. So they are easy to stack when we join datasets."
   ]
  },
  {
   "cell_type": "code",
   "execution_count": 7,
   "id": "0bdbef23",
   "metadata": {
    "execution": {
     "iopub.execute_input": "2022-12-16T21:50:58.781091Z",
     "iopub.status.busy": "2022-12-16T21:50:58.779746Z",
     "iopub.status.idle": "2022-12-16T21:50:58.921354Z",
     "shell.execute_reply": "2022-12-16T21:50:58.919236Z"
    },
    "papermill": {
     "duration": 0.160272,
     "end_time": "2022-12-16T21:50:58.923560",
     "exception": false,
     "start_time": "2022-12-16T21:50:58.763288",
     "status": "completed"
    },
    "tags": []
   },
   "outputs": [
    {
     "name": "stdout",
     "output_type": "stream",
     "text": [
      "tibble [426,887 × 9] (S3: tbl_df/tbl/data.frame)\n",
      " $ ride_id           : chr [1:426887] \"EACB19130B0CDA4A\" \"8FED874C809DC021\" \"789F3C21E472CA96\" \"C9A388DAC6ABF313\" ...\n",
      " $ rideable_type     : chr [1:426887] \"docked_bike\" \"docked_bike\" \"docked_bike\" \"docked_bike\" ...\n",
      " $ started_at        : POSIXct[1:426887], format: \"2020-01-21 20:06:59\" \"2020-01-30 14:22:39\" ...\n",
      " $ ended_at          : POSIXct[1:426887], format: \"2020-01-21 20:14:30\" \"2020-01-30 14:26:22\" ...\n",
      " $ start_station_name: chr [1:426887] \"Western Ave & Leland Ave\" \"Clark St & Montrose Ave\" \"Broadway & Belmont Ave\" \"Clark St & Randolph St\" ...\n",
      " $ start_station_id  : num [1:426887] 239 234 296 51 66 212 96 96 212 38 ...\n",
      " $ end_station_name  : chr [1:426887] \"Clark St & Leland Ave\" \"Southport Ave & Irving Park Rd\" \"Wilton Ave & Belmont Ave\" \"Fairbanks Ct & Grand Ave\" ...\n",
      " $ end_station_id    : num [1:426887] 326 318 117 24 212 96 212 212 96 100 ...\n",
      " $ member_casual     : chr [1:426887] \"member\" \"member\" \"member\" \"member\" ...\n",
      "tibble [1,108,163 × 9] (S3: tbl_df/tbl/data.frame)\n",
      " $ ride_id           : num [1:1108163] 22178529 22178530 22178531 22178532 22178533 ...\n",
      " $ started_at        : POSIXct[1:1108163], format: \"2019-04-01 00:02:22\" \"2019-04-01 00:03:02\" ...\n",
      " $ ended_at          : POSIXct[1:1108163], format: \"2019-04-01 00:09:48\" \"2019-04-01 00:20:30\" ...\n",
      " $ rideable_type     : num [1:1108163] 6251 6226 5649 4151 3270 ...\n",
      " $ start_station_id  : num [1:1108163] 81 317 283 26 202 420 503 260 211 211 ...\n",
      " $ start_station_name: chr [1:1108163] \"Daley Center Plaza\" \"Wood St & Taylor St\" \"LaSalle St & Jackson Blvd\" \"McClurg Ct & Illinois St\" ...\n",
      " $ end_station_id    : num [1:1108163] 56 59 174 133 129 426 500 499 211 211 ...\n",
      " $ end_station_name  : chr [1:1108163] \"Desplaines St & Kinzie St\" \"Wabash Ave & Roosevelt Rd\" \"Canal St & Madison St\" \"Kingsbury St & Kinzie St\" ...\n",
      " $ member_casual     : chr [1:1108163] \"Subscriber\" \"Subscriber\" \"Subscriber\" \"Subscriber\" ...\n",
      "tibble [1,640,718 × 9] (S3: tbl_df/tbl/data.frame)\n",
      " $ ride_id           : num [1:1640718] 23479388 23479389 23479390 23479391 23479392 ...\n",
      " $ started_at        : POSIXct[1:1640718], format: \"2019-07-01 00:00:27\" \"2019-07-01 00:01:16\" ...\n",
      " $ ended_at          : POSIXct[1:1640718], format: \"2019-07-01 00:20:41\" \"2019-07-01 00:18:44\" ...\n",
      " $ rideable_type     : num [1:1640718] 3591 5353 6180 5540 6014 ...\n",
      " $ start_station_id  : num [1:1640718] 117 381 313 313 168 300 168 313 43 43 ...\n",
      " $ start_station_name: chr [1:1640718] \"Wilton Ave & Belmont Ave\" \"Western Ave & Monroe St\" \"Lakeview Ave & Fullerton Pkwy\" \"Lakeview Ave & Fullerton Pkwy\" ...\n",
      " $ end_station_id    : num [1:1640718] 497 203 144 144 62 232 62 144 195 195 ...\n",
      " $ end_station_name  : chr [1:1640718] \"Kimball Ave & Belmont Ave\" \"Western Ave & 21st St\" \"Larrabee St & Webster Ave\" \"Larrabee St & Webster Ave\" ...\n",
      " $ member_casual     : chr [1:1640718] \"Subscriber\" \"Customer\" \"Customer\" \"Customer\" ...\n",
      "tibble [704,054 × 9] (S3: tbl_df/tbl/data.frame)\n",
      " $ ride_id           : num [1:704054] 25223640 25223641 25223642 25223643 25223644 ...\n",
      " $ started_at        : POSIXct[1:704054], format: \"2019-10-01 00:01:39\" \"2019-10-01 00:02:16\" ...\n",
      " $ ended_at          : POSIXct[1:704054], format: \"2019-10-01 00:17:20\" \"2019-10-01 00:06:34\" ...\n",
      " $ rideable_type     : num [1:704054] 2215 6328 3003 3275 5294 ...\n",
      " $ start_station_id  : num [1:704054] 20 19 84 313 210 156 84 156 156 336 ...\n",
      " $ start_station_name: chr [1:704054] \"Sheffield Ave & Kingsbury St\" \"Throop (Loomis) St & Taylor St\" \"Milwaukee Ave & Grand Ave\" \"Lakeview Ave & Fullerton Pkwy\" ...\n",
      " $ end_station_id    : num [1:704054] 309 241 199 290 382 226 142 463 463 336 ...\n",
      " $ end_station_name  : chr [1:704054] \"Leavitt St & Armitage Ave\" \"Morgan St & Polk St\" \"Wabash Ave & Grand Ave\" \"Kedzie Ave & Palmer Ct\" ...\n",
      " $ member_casual     : chr [1:704054] \"Subscriber\" \"Subscriber\" \"Subscriber\" \"Subscriber\" ...\n"
     ]
    }
   ],
   "source": [
    "str(q1_2020)\n",
    "str(q2_2019)\n",
    "str(q3_2019)\n",
    "str(q4_2019)"
   ]
  },
  {
   "cell_type": "markdown",
   "id": "0093fbe4",
   "metadata": {
    "papermill": {
     "duration": 0.020865,
     "end_time": "2022-12-16T21:50:58.959591",
     "exception": false,
     "start_time": "2022-12-16T21:50:58.938726",
     "status": "completed"
    },
    "tags": []
   },
   "source": [
    "**Analysis:** We notice that q1_2020 ride_id is a (chr) & rideable_type is also a (chr) data type. While the other ride_id and rideable_type have a (num) data type."
   ]
  },
  {
   "cell_type": "markdown",
   "id": "7e338851",
   "metadata": {
    "papermill": {
     "duration": 0.015041,
     "end_time": "2022-12-16T21:50:58.990342",
     "exception": false,
     "start_time": "2022-12-16T21:50:58.975301",
     "status": "completed"
    },
    "tags": []
   },
   "source": [
    "**Convert 'ride_id' to (chr) data type**\n",
    "\n",
    "Here we will convert ride_id to a (chr) data type in all tables to make them similar and stackable when joining datasets later on."
   ]
  },
  {
   "cell_type": "code",
   "execution_count": 8,
   "id": "c811240e",
   "metadata": {
    "execution": {
     "iopub.execute_input": "2022-12-16T21:50:59.023739Z",
     "iopub.status.busy": "2022-12-16T21:50:59.022453Z",
     "iopub.status.idle": "2022-12-16T21:50:59.053013Z",
     "shell.execute_reply": "2022-12-16T21:50:59.051110Z"
    },
    "papermill": {
     "duration": 0.049537,
     "end_time": "2022-12-16T21:50:59.054859",
     "exception": false,
     "start_time": "2022-12-16T21:50:59.005322",
     "status": "completed"
    },
    "tags": []
   },
   "outputs": [],
   "source": [
    "q4_2019 <- mutate(q4_2019, ride_id=as.character(ride_id),\n",
    "          rideable_type=as.character(rideable_type))\n",
    "q3_2019 <- mutate(q3_2019, ride_id=as.character(ride_id),\n",
    "                  rideable_type=as.character(rideable_type))\n",
    "q2_2019 <- mutate(q2_2019, ride_id=as.character(ride_id),\n",
    "                  rideable_type=as.character(rideable_type))"
   ]
  },
  {
   "cell_type": "markdown",
   "id": "06edf4c4",
   "metadata": {
    "papermill": {
     "duration": 0.015477,
     "end_time": "2022-12-16T21:50:59.086408",
     "exception": false,
     "start_time": "2022-12-16T21:50:59.070931",
     "status": "completed"
    },
    "tags": []
   },
   "source": [
    "**Stack the datasets all in one table**"
   ]
  },
  {
   "cell_type": "code",
   "execution_count": 9,
   "id": "10f96728",
   "metadata": {
    "execution": {
     "iopub.execute_input": "2022-12-16T21:50:59.119846Z",
     "iopub.status.busy": "2022-12-16T21:50:59.118592Z",
     "iopub.status.idle": "2022-12-16T21:51:08.487302Z",
     "shell.execute_reply": "2022-12-16T21:51:08.485725Z"
    },
    "papermill": {
     "duration": 9.388061,
     "end_time": "2022-12-16T21:51:08.489629",
     "exception": false,
     "start_time": "2022-12-16T21:50:59.101568",
     "status": "completed"
    },
    "tags": []
   },
   "outputs": [],
   "source": [
    "all_trips <- bind_rows(q2_2019, q3_2019, q4_2019, q1_2020)"
   ]
  },
  {
   "cell_type": "markdown",
   "id": "b15e74f8",
   "metadata": {
    "papermill": {
     "duration": 0.045251,
     "end_time": "2022-12-16T21:51:08.550599",
     "exception": false,
     "start_time": "2022-12-16T21:51:08.505348",
     "status": "completed"
    },
    "tags": []
   },
   "source": [
    "**Inspect new stacked dataset**\n",
    "\n",
    "We will now take a look at the new stacked dataset. First we will look at the column names."
   ]
  },
  {
   "cell_type": "code",
   "execution_count": 10,
   "id": "156e23d9",
   "metadata": {
    "execution": {
     "iopub.execute_input": "2022-12-16T21:51:08.584305Z",
     "iopub.status.busy": "2022-12-16T21:51:08.583099Z",
     "iopub.status.idle": "2022-12-16T21:51:08.597200Z",
     "shell.execute_reply": "2022-12-16T21:51:08.595649Z"
    },
    "papermill": {
     "duration": 0.033917,
     "end_time": "2022-12-16T21:51:08.599491",
     "exception": false,
     "start_time": "2022-12-16T21:51:08.565574",
     "status": "completed"
    },
    "tags": []
   },
   "outputs": [
    {
     "data": {
      "text/html": [
       "<style>\n",
       ".list-inline {list-style: none; margin:0; padding: 0}\n",
       ".list-inline>li {display: inline-block}\n",
       ".list-inline>li:not(:last-child)::after {content: \"\\00b7\"; padding: 0 .5ex}\n",
       "</style>\n",
       "<ol class=list-inline><li>'ride_id'</li><li>'started_at'</li><li>'ended_at'</li><li>'rideable_type'</li><li>'start_station_id'</li><li>'start_station_name'</li><li>'end_station_id'</li><li>'end_station_name'</li><li>'member_casual'</li></ol>\n"
      ],
      "text/latex": [
       "\\begin{enumerate*}\n",
       "\\item 'ride\\_id'\n",
       "\\item 'started\\_at'\n",
       "\\item 'ended\\_at'\n",
       "\\item 'rideable\\_type'\n",
       "\\item 'start\\_station\\_id'\n",
       "\\item 'start\\_station\\_name'\n",
       "\\item 'end\\_station\\_id'\n",
       "\\item 'end\\_station\\_name'\n",
       "\\item 'member\\_casual'\n",
       "\\end{enumerate*}\n"
      ],
      "text/markdown": [
       "1. 'ride_id'\n",
       "2. 'started_at'\n",
       "3. 'ended_at'\n",
       "4. 'rideable_type'\n",
       "5. 'start_station_id'\n",
       "6. 'start_station_name'\n",
       "7. 'end_station_id'\n",
       "8. 'end_station_name'\n",
       "9. 'member_casual'\n",
       "\n",
       "\n"
      ],
      "text/plain": [
       "[1] \"ride_id\"            \"started_at\"         \"ended_at\"          \n",
       "[4] \"rideable_type\"      \"start_station_id\"   \"start_station_name\"\n",
       "[7] \"end_station_id\"     \"end_station_name\"   \"member_casual\"     "
      ]
     },
     "metadata": {},
     "output_type": "display_data"
    }
   ],
   "source": [
    "colnames(all_trips)"
   ]
  },
  {
   "cell_type": "markdown",
   "id": "c881cc7f",
   "metadata": {
    "papermill": {
     "duration": 0.015207,
     "end_time": "2022-12-16T21:51:08.629936",
     "exception": false,
     "start_time": "2022-12-16T21:51:08.614729",
     "status": "completed"
    },
    "tags": []
   },
   "source": [
    "**Take a look at the columns data types** "
   ]
  },
  {
   "cell_type": "code",
   "execution_count": 11,
   "id": "dc547420",
   "metadata": {
    "execution": {
     "iopub.execute_input": "2022-12-16T21:51:08.664315Z",
     "iopub.status.busy": "2022-12-16T21:51:08.662967Z",
     "iopub.status.idle": "2022-12-16T21:51:08.695560Z",
     "shell.execute_reply": "2022-12-16T21:51:08.693955Z"
    },
    "papermill": {
     "duration": 0.053061,
     "end_time": "2022-12-16T21:51:08.698552",
     "exception": false,
     "start_time": "2022-12-16T21:51:08.645491",
     "status": "completed"
    },
    "tags": []
   },
   "outputs": [
    {
     "name": "stdout",
     "output_type": "stream",
     "text": [
      "tibble [3,879,822 × 9] (S3: tbl_df/tbl/data.frame)\n",
      " $ ride_id           : chr [1:3879822] \"22178529\" \"22178530\" \"22178531\" \"22178532\" ...\n",
      " $ started_at        : POSIXct[1:3879822], format: \"2019-04-01 00:02:22\" \"2019-04-01 00:03:02\" ...\n",
      " $ ended_at          : POSIXct[1:3879822], format: \"2019-04-01 00:09:48\" \"2019-04-01 00:20:30\" ...\n",
      " $ rideable_type     : chr [1:3879822] \"6251\" \"6226\" \"5649\" \"4151\" ...\n",
      " $ start_station_id  : num [1:3879822] 81 317 283 26 202 420 503 260 211 211 ...\n",
      " $ start_station_name: chr [1:3879822] \"Daley Center Plaza\" \"Wood St & Taylor St\" \"LaSalle St & Jackson Blvd\" \"McClurg Ct & Illinois St\" ...\n",
      " $ end_station_id    : num [1:3879822] 56 59 174 133 129 426 500 499 211 211 ...\n",
      " $ end_station_name  : chr [1:3879822] \"Desplaines St & Kinzie St\" \"Wabash Ave & Roosevelt Rd\" \"Canal St & Madison St\" \"Kingsbury St & Kinzie St\" ...\n",
      " $ member_casual     : chr [1:3879822] \"Subscriber\" \"Subscriber\" \"Subscriber\" \"Subscriber\" ...\n"
     ]
    }
   ],
   "source": [
    "str(all_trips)"
   ]
  },
  {
   "cell_type": "markdown",
   "id": "136bf79a",
   "metadata": {
    "papermill": {
     "duration": 0.016248,
     "end_time": "2022-12-16T21:51:08.732001",
     "exception": false,
     "start_time": "2022-12-16T21:51:08.715753",
     "status": "completed"
    },
    "tags": []
   },
   "source": [
    "**How many rows of information we will be working with**"
   ]
  },
  {
   "cell_type": "code",
   "execution_count": 12,
   "id": "9159507e",
   "metadata": {
    "execution": {
     "iopub.execute_input": "2022-12-16T21:51:08.766932Z",
     "iopub.status.busy": "2022-12-16T21:51:08.765582Z",
     "iopub.status.idle": "2022-12-16T21:51:08.783009Z",
     "shell.execute_reply": "2022-12-16T21:51:08.781078Z"
    },
    "papermill": {
     "duration": 0.037061,
     "end_time": "2022-12-16T21:51:08.785156",
     "exception": false,
     "start_time": "2022-12-16T21:51:08.748095",
     "status": "completed"
    },
    "tags": []
   },
   "outputs": [
    {
     "data": {
      "text/html": [
       "3879822"
      ],
      "text/latex": [
       "3879822"
      ],
      "text/markdown": [
       "3879822"
      ],
      "text/plain": [
       "[1] 3879822"
      ]
     },
     "metadata": {},
     "output_type": "display_data"
    }
   ],
   "source": [
    "nrow(all_trips)"
   ]
  },
  {
   "cell_type": "markdown",
   "id": "cf1baadb",
   "metadata": {
    "papermill": {
     "duration": 0.01676,
     "end_time": "2022-12-16T21:51:08.817502",
     "exception": false,
     "start_time": "2022-12-16T21:51:08.800742",
     "status": "completed"
    },
    "tags": []
   },
   "source": [
    "**Explore small summary of the dataset**"
   ]
  },
  {
   "cell_type": "code",
   "execution_count": 13,
   "id": "71e86d8e",
   "metadata": {
    "execution": {
     "iopub.execute_input": "2022-12-16T21:51:08.853198Z",
     "iopub.status.busy": "2022-12-16T21:51:08.851692Z",
     "iopub.status.idle": "2022-12-16T21:51:08.876805Z",
     "shell.execute_reply": "2022-12-16T21:51:08.875359Z"
    },
    "papermill": {
     "duration": 0.045409,
     "end_time": "2022-12-16T21:51:08.879154",
     "exception": false,
     "start_time": "2022-12-16T21:51:08.833745",
     "status": "completed"
    },
    "tags": []
   },
   "outputs": [
    {
     "data": {
      "text/html": [
       "<table class=\"dataframe\">\n",
       "<caption>A tibble: 6 × 9</caption>\n",
       "<thead>\n",
       "\t<tr><th scope=col>ride_id</th><th scope=col>started_at</th><th scope=col>ended_at</th><th scope=col>rideable_type</th><th scope=col>start_station_id</th><th scope=col>start_station_name</th><th scope=col>end_station_id</th><th scope=col>end_station_name</th><th scope=col>member_casual</th></tr>\n",
       "\t<tr><th scope=col>&lt;chr&gt;</th><th scope=col>&lt;dttm&gt;</th><th scope=col>&lt;dttm&gt;</th><th scope=col>&lt;chr&gt;</th><th scope=col>&lt;dbl&gt;</th><th scope=col>&lt;chr&gt;</th><th scope=col>&lt;dbl&gt;</th><th scope=col>&lt;chr&gt;</th><th scope=col>&lt;chr&gt;</th></tr>\n",
       "</thead>\n",
       "<tbody>\n",
       "\t<tr><td>22178529</td><td>2019-04-01 00:02:22</td><td>2019-04-01 00:09:48</td><td>6251</td><td> 81</td><td><span style=white-space:pre-wrap>Daley Center Plaza       </span></td><td> 56</td><td>Desplaines St &amp; Kinzie St</td><td>Subscriber</td></tr>\n",
       "\t<tr><td>22178530</td><td>2019-04-01 00:03:02</td><td>2019-04-01 00:20:30</td><td>6226</td><td>317</td><td><span style=white-space:pre-wrap>Wood St &amp; Taylor St      </span></td><td> 59</td><td>Wabash Ave &amp; Roosevelt Rd</td><td>Subscriber</td></tr>\n",
       "\t<tr><td>22178531</td><td>2019-04-01 00:11:07</td><td>2019-04-01 00:15:19</td><td>5649</td><td>283</td><td>LaSalle St &amp; Jackson Blvd</td><td>174</td><td><span style=white-space:pre-wrap>Canal St &amp; Madison St    </span></td><td>Subscriber</td></tr>\n",
       "\t<tr><td>22178532</td><td>2019-04-01 00:13:01</td><td>2019-04-01 00:18:58</td><td>4151</td><td> 26</td><td>McClurg Ct &amp; Illinois St </td><td>133</td><td>Kingsbury St &amp; Kinzie St </td><td>Subscriber</td></tr>\n",
       "\t<tr><td>22178533</td><td>2019-04-01 00:19:26</td><td>2019-04-01 00:36:13</td><td>3270</td><td>202</td><td><span style=white-space:pre-wrap>Halsted St &amp; 18th St     </span></td><td>129</td><td>Blue Island Ave &amp; 18th St</td><td>Subscriber</td></tr>\n",
       "\t<tr><td>22178534</td><td>2019-04-01 00:19:39</td><td>2019-04-01 00:23:56</td><td>3123</td><td>420</td><td><span style=white-space:pre-wrap>Ellis Ave &amp; 55th St      </span></td><td>426</td><td><span style=white-space:pre-wrap>Ellis Ave &amp; 60th St      </span></td><td>Subscriber</td></tr>\n",
       "</tbody>\n",
       "</table>\n"
      ],
      "text/latex": [
       "A tibble: 6 × 9\n",
       "\\begin{tabular}{lllllllll}\n",
       " ride\\_id & started\\_at & ended\\_at & rideable\\_type & start\\_station\\_id & start\\_station\\_name & end\\_station\\_id & end\\_station\\_name & member\\_casual\\\\\n",
       " <chr> & <dttm> & <dttm> & <chr> & <dbl> & <chr> & <dbl> & <chr> & <chr>\\\\\n",
       "\\hline\n",
       "\t 22178529 & 2019-04-01 00:02:22 & 2019-04-01 00:09:48 & 6251 &  81 & Daley Center Plaza        &  56 & Desplaines St \\& Kinzie St & Subscriber\\\\\n",
       "\t 22178530 & 2019-04-01 00:03:02 & 2019-04-01 00:20:30 & 6226 & 317 & Wood St \\& Taylor St       &  59 & Wabash Ave \\& Roosevelt Rd & Subscriber\\\\\n",
       "\t 22178531 & 2019-04-01 00:11:07 & 2019-04-01 00:15:19 & 5649 & 283 & LaSalle St \\& Jackson Blvd & 174 & Canal St \\& Madison St     & Subscriber\\\\\n",
       "\t 22178532 & 2019-04-01 00:13:01 & 2019-04-01 00:18:58 & 4151 &  26 & McClurg Ct \\& Illinois St  & 133 & Kingsbury St \\& Kinzie St  & Subscriber\\\\\n",
       "\t 22178533 & 2019-04-01 00:19:26 & 2019-04-01 00:36:13 & 3270 & 202 & Halsted St \\& 18th St      & 129 & Blue Island Ave \\& 18th St & Subscriber\\\\\n",
       "\t 22178534 & 2019-04-01 00:19:39 & 2019-04-01 00:23:56 & 3123 & 420 & Ellis Ave \\& 55th St       & 426 & Ellis Ave \\& 60th St       & Subscriber\\\\\n",
       "\\end{tabular}\n"
      ],
      "text/markdown": [
       "\n",
       "A tibble: 6 × 9\n",
       "\n",
       "| ride_id &lt;chr&gt; | started_at &lt;dttm&gt; | ended_at &lt;dttm&gt; | rideable_type &lt;chr&gt; | start_station_id &lt;dbl&gt; | start_station_name &lt;chr&gt; | end_station_id &lt;dbl&gt; | end_station_name &lt;chr&gt; | member_casual &lt;chr&gt; |\n",
       "|---|---|---|---|---|---|---|---|---|\n",
       "| 22178529 | 2019-04-01 00:02:22 | 2019-04-01 00:09:48 | 6251 |  81 | Daley Center Plaza        |  56 | Desplaines St &amp; Kinzie St | Subscriber |\n",
       "| 22178530 | 2019-04-01 00:03:02 | 2019-04-01 00:20:30 | 6226 | 317 | Wood St &amp; Taylor St       |  59 | Wabash Ave &amp; Roosevelt Rd | Subscriber |\n",
       "| 22178531 | 2019-04-01 00:11:07 | 2019-04-01 00:15:19 | 5649 | 283 | LaSalle St &amp; Jackson Blvd | 174 | Canal St &amp; Madison St     | Subscriber |\n",
       "| 22178532 | 2019-04-01 00:13:01 | 2019-04-01 00:18:58 | 4151 |  26 | McClurg Ct &amp; Illinois St  | 133 | Kingsbury St &amp; Kinzie St  | Subscriber |\n",
       "| 22178533 | 2019-04-01 00:19:26 | 2019-04-01 00:36:13 | 3270 | 202 | Halsted St &amp; 18th St      | 129 | Blue Island Ave &amp; 18th St | Subscriber |\n",
       "| 22178534 | 2019-04-01 00:19:39 | 2019-04-01 00:23:56 | 3123 | 420 | Ellis Ave &amp; 55th St       | 426 | Ellis Ave &amp; 60th St       | Subscriber |\n",
       "\n"
      ],
      "text/plain": [
       "  ride_id  started_at          ended_at            rideable_type\n",
       "1 22178529 2019-04-01 00:02:22 2019-04-01 00:09:48 6251         \n",
       "2 22178530 2019-04-01 00:03:02 2019-04-01 00:20:30 6226         \n",
       "3 22178531 2019-04-01 00:11:07 2019-04-01 00:15:19 5649         \n",
       "4 22178532 2019-04-01 00:13:01 2019-04-01 00:18:58 4151         \n",
       "5 22178533 2019-04-01 00:19:26 2019-04-01 00:36:13 3270         \n",
       "6 22178534 2019-04-01 00:19:39 2019-04-01 00:23:56 3123         \n",
       "  start_station_id start_station_name        end_station_id\n",
       "1  81              Daley Center Plaza         56           \n",
       "2 317              Wood St & Taylor St        59           \n",
       "3 283              LaSalle St & Jackson Blvd 174           \n",
       "4  26              McClurg Ct & Illinois St  133           \n",
       "5 202              Halsted St & 18th St      129           \n",
       "6 420              Ellis Ave & 55th St       426           \n",
       "  end_station_name          member_casual\n",
       "1 Desplaines St & Kinzie St Subscriber   \n",
       "2 Wabash Ave & Roosevelt Rd Subscriber   \n",
       "3 Canal St & Madison St     Subscriber   \n",
       "4 Kingsbury St & Kinzie St  Subscriber   \n",
       "5 Blue Island Ave & 18th St Subscriber   \n",
       "6 Ellis Ave & 60th St       Subscriber   "
      ]
     },
     "metadata": {},
     "output_type": "display_data"
    }
   ],
   "source": [
    "head(all_trips)"
   ]
  },
  {
   "cell_type": "markdown",
   "id": "d5664f41",
   "metadata": {
    "papermill": {
     "duration": 0.015328,
     "end_time": "2022-12-16T21:51:08.910012",
     "exception": false,
     "start_time": "2022-12-16T21:51:08.894684",
     "status": "completed"
    },
    "tags": []
   },
   "source": [
    "**Analysis:** We notice in the 'member_casual' column that there are 4 choices (member, casual, Subscriber and customer). We noticed that in q1 2020 they changed the column to show customers with memberships= 'member' and non membership customers= 'casual'. So we want to change this caolumn to only show these 2 choices."
   ]
  },
  {
   "cell_type": "markdown",
   "id": "593f16b0",
   "metadata": {
    "papermill": {
     "duration": 0.015147,
     "end_time": "2022-12-16T21:51:08.940677",
     "exception": false,
     "start_time": "2022-12-16T21:51:08.925530",
     "status": "completed"
    },
    "tags": []
   },
   "source": [
    "**Convert Subscribers = member and Customer = casual**"
   ]
  },
  {
   "cell_type": "code",
   "execution_count": 14,
   "id": "637112dc",
   "metadata": {
    "execution": {
     "iopub.execute_input": "2022-12-16T21:51:08.973718Z",
     "iopub.status.busy": "2022-12-16T21:51:08.972397Z",
     "iopub.status.idle": "2022-12-16T21:51:11.288524Z",
     "shell.execute_reply": "2022-12-16T21:51:11.286985Z"
    },
    "papermill": {
     "duration": 2.334455,
     "end_time": "2022-12-16T21:51:11.290267",
     "exception": false,
     "start_time": "2022-12-16T21:51:08.955812",
     "status": "completed"
    },
    "tags": []
   },
   "outputs": [],
   "source": [
    "all_trips <- all_trips %>% \n",
    "  mutate(member_casual=recode(member_casual, \"Subscriber\"=\"member\", \"Customer\"=\"casual\"))"
   ]
  },
  {
   "cell_type": "markdown",
   "id": "ada30b45",
   "metadata": {
    "papermill": {
     "duration": 0.014999,
     "end_time": "2022-12-16T21:51:11.320535",
     "exception": false,
     "start_time": "2022-12-16T21:51:11.305536",
     "status": "completed"
    },
    "tags": []
   },
   "source": [
    "**Check to see if 'member_casual' column was changed**"
   ]
  },
  {
   "cell_type": "code",
   "execution_count": 15,
   "id": "0365ddae",
   "metadata": {
    "execution": {
     "iopub.execute_input": "2022-12-16T21:51:11.354475Z",
     "iopub.status.busy": "2022-12-16T21:51:11.353149Z",
     "iopub.status.idle": "2022-12-16T21:51:11.540858Z",
     "shell.execute_reply": "2022-12-16T21:51:11.539448Z"
    },
    "papermill": {
     "duration": 0.207702,
     "end_time": "2022-12-16T21:51:11.543146",
     "exception": false,
     "start_time": "2022-12-16T21:51:11.335444",
     "status": "completed"
    },
    "tags": []
   },
   "outputs": [
    {
     "data": {
      "text/plain": [
       "\n",
       " casual  member \n",
       " 905954 2973868 "
      ]
     },
     "metadata": {},
     "output_type": "display_data"
    }
   ],
   "source": [
    "table(all_trips$member_casual)"
   ]
  },
  {
   "cell_type": "markdown",
   "id": "6181777d",
   "metadata": {
    "papermill": {
     "duration": 0.014846,
     "end_time": "2022-12-16T21:51:11.573648",
     "exception": false,
     "start_time": "2022-12-16T21:51:11.558802",
     "status": "completed"
    },
    "tags": []
   },
   "source": [
    "**Add in columns that break down the date, day, month, year and day of the week of each ride**"
   ]
  },
  {
   "cell_type": "code",
   "execution_count": 16,
   "id": "ae3c7f0b",
   "metadata": {
    "execution": {
     "iopub.execute_input": "2022-12-16T21:51:11.606928Z",
     "iopub.status.busy": "2022-12-16T21:51:11.605651Z",
     "iopub.status.idle": "2022-12-16T21:51:17.008464Z",
     "shell.execute_reply": "2022-12-16T21:51:17.006977Z"
    },
    "papermill": {
     "duration": 5.421482,
     "end_time": "2022-12-16T21:51:17.010236",
     "exception": false,
     "start_time": "2022-12-16T21:51:11.588754",
     "status": "completed"
    },
    "tags": []
   },
   "outputs": [],
   "source": [
    "all_trips$date <- as.Date(all_trips$started_at)\n",
    "all_trips$month <- format(as.Date(all_trips$date), \"%m\")\n",
    "all_trips$day <- format(as.Date(all_trips$date), \"%d\")\n",
    "all_trips$year <- format(as.Date(all_trips$date), \"%Y\")\n",
    "all_trips$day_of_the_week <- format(as.Date(all_trips$date),\"%A\")"
   ]
  },
  {
   "cell_type": "markdown",
   "id": "279fd2dc",
   "metadata": {
    "papermill": {
     "duration": 0.015878,
     "end_time": "2022-12-16T21:51:17.042438",
     "exception": false,
     "start_time": "2022-12-16T21:51:17.026560",
     "status": "completed"
    },
    "tags": []
   },
   "source": [
    "**Figure out the trip duration in seconds for each ride**"
   ]
  },
  {
   "cell_type": "code",
   "execution_count": 17,
   "id": "17a3616c",
   "metadata": {
    "execution": {
     "iopub.execute_input": "2022-12-16T21:51:17.076164Z",
     "iopub.status.busy": "2022-12-16T21:51:17.074953Z",
     "iopub.status.idle": "2022-12-16T21:51:17.125102Z",
     "shell.execute_reply": "2022-12-16T21:51:17.123517Z"
    },
    "papermill": {
     "duration": 0.069111,
     "end_time": "2022-12-16T21:51:17.127185",
     "exception": false,
     "start_time": "2022-12-16T21:51:17.058074",
     "status": "completed"
    },
    "tags": []
   },
   "outputs": [],
   "source": [
    "all_trips$tripduration <- difftime(all_trips$ended_at, all_trips$started_at)"
   ]
  },
  {
   "cell_type": "markdown",
   "id": "c9136637",
   "metadata": {
    "papermill": {
     "duration": 0.015618,
     "end_time": "2022-12-16T21:51:17.158604",
     "exception": false,
     "start_time": "2022-12-16T21:51:17.142986",
     "status": "completed"
    },
    "tags": []
   },
   "source": [
    "**What data types are our newley formed columns in**"
   ]
  },
  {
   "cell_type": "code",
   "execution_count": 18,
   "id": "0544a1f6",
   "metadata": {
    "execution": {
     "iopub.execute_input": "2022-12-16T21:51:17.194007Z",
     "iopub.status.busy": "2022-12-16T21:51:17.192767Z",
     "iopub.status.idle": "2022-12-16T21:51:17.230528Z",
     "shell.execute_reply": "2022-12-16T21:51:17.228765Z"
    },
    "papermill": {
     "duration": 0.057569,
     "end_time": "2022-12-16T21:51:17.232768",
     "exception": false,
     "start_time": "2022-12-16T21:51:17.175199",
     "status": "completed"
    },
    "tags": []
   },
   "outputs": [
    {
     "name": "stdout",
     "output_type": "stream",
     "text": [
      "tibble [3,879,822 × 15] (S3: tbl_df/tbl/data.frame)\n",
      " $ ride_id           : chr [1:3879822] \"22178529\" \"22178530\" \"22178531\" \"22178532\" ...\n",
      " $ started_at        : POSIXct[1:3879822], format: \"2019-04-01 00:02:22\" \"2019-04-01 00:03:02\" ...\n",
      " $ ended_at          : POSIXct[1:3879822], format: \"2019-04-01 00:09:48\" \"2019-04-01 00:20:30\" ...\n",
      " $ rideable_type     : chr [1:3879822] \"6251\" \"6226\" \"5649\" \"4151\" ...\n",
      " $ start_station_id  : num [1:3879822] 81 317 283 26 202 420 503 260 211 211 ...\n",
      " $ start_station_name: chr [1:3879822] \"Daley Center Plaza\" \"Wood St & Taylor St\" \"LaSalle St & Jackson Blvd\" \"McClurg Ct & Illinois St\" ...\n",
      " $ end_station_id    : num [1:3879822] 56 59 174 133 129 426 500 499 211 211 ...\n",
      " $ end_station_name  : chr [1:3879822] \"Desplaines St & Kinzie St\" \"Wabash Ave & Roosevelt Rd\" \"Canal St & Madison St\" \"Kingsbury St & Kinzie St\" ...\n",
      " $ member_casual     : chr [1:3879822] \"member\" \"member\" \"member\" \"member\" ...\n",
      " $ date              : Date[1:3879822], format: \"2019-04-01\" \"2019-04-01\" ...\n",
      " $ month             : chr [1:3879822] \"04\" \"04\" \"04\" \"04\" ...\n",
      " $ day               : chr [1:3879822] \"01\" \"01\" \"01\" \"01\" ...\n",
      " $ year              : chr [1:3879822] \"2019\" \"2019\" \"2019\" \"2019\" ...\n",
      " $ day_of_the_week   : chr [1:3879822] \"Monday\" \"Monday\" \"Monday\" \"Monday\" ...\n",
      " $ tripduration      : 'difftime' num [1:3879822] 446 1048 252 357 ...\n",
      "  ..- attr(*, \"units\")= chr \"secs\"\n"
     ]
    }
   ],
   "source": [
    "str(all_trips)"
   ]
  },
  {
   "cell_type": "markdown",
   "id": "773afe21",
   "metadata": {
    "papermill": {
     "duration": 0.015878,
     "end_time": "2022-12-16T21:51:17.265684",
     "exception": false,
     "start_time": "2022-12-16T21:51:17.249806",
     "status": "completed"
    },
    "tags": []
   },
   "source": [
    "**What data type is \"tripduration\" in**"
   ]
  },
  {
   "cell_type": "code",
   "execution_count": 19,
   "id": "ccf01b22",
   "metadata": {
    "execution": {
     "iopub.execute_input": "2022-12-16T21:51:17.299923Z",
     "iopub.status.busy": "2022-12-16T21:51:17.298653Z",
     "iopub.status.idle": "2022-12-16T21:51:17.313196Z",
     "shell.execute_reply": "2022-12-16T21:51:17.311797Z"
    },
    "papermill": {
     "duration": 0.033571,
     "end_time": "2022-12-16T21:51:17.314887",
     "exception": false,
     "start_time": "2022-12-16T21:51:17.281316",
     "status": "completed"
    },
    "tags": []
   },
   "outputs": [
    {
     "data": {
      "text/html": [
       "'double'"
      ],
      "text/latex": [
       "'double'"
      ],
      "text/markdown": [
       "'double'"
      ],
      "text/plain": [
       "[1] \"double\""
      ]
     },
     "metadata": {},
     "output_type": "display_data"
    }
   ],
   "source": [
    "typeof(all_trips$tripduration)"
   ]
  },
  {
   "cell_type": "markdown",
   "id": "5fbf9499",
   "metadata": {
    "papermill": {
     "duration": 0.017224,
     "end_time": "2022-12-16T21:51:17.347581",
     "exception": false,
     "start_time": "2022-12-16T21:51:17.330357",
     "status": "completed"
    },
    "tags": []
   },
   "source": [
    "**Analysis:** We see that the 'tripduration' data type is in 'double'(a decimal format), but we want to make it numeric so we can do some calculations."
   ]
  },
  {
   "cell_type": "markdown",
   "id": "4c545698",
   "metadata": {
    "papermill": {
     "duration": 0.01566,
     "end_time": "2022-12-16T21:51:17.379211",
     "exception": false,
     "start_time": "2022-12-16T21:51:17.363551",
     "status": "completed"
    },
    "tags": []
   },
   "source": [
    "**Changing 'tripduration' to a numeric data type**\n",
    "\n",
    "Here we will change the 'tripduration' data type to numeric. Then check to see if the data type was actually changed to numeric afterwards"
   ]
  },
  {
   "cell_type": "code",
   "execution_count": 20,
   "id": "c83e7a3b",
   "metadata": {
    "execution": {
     "iopub.execute_input": "2022-12-16T21:51:17.413456Z",
     "iopub.status.busy": "2022-12-16T21:51:17.412219Z",
     "iopub.status.idle": "2022-12-16T21:51:21.676483Z",
     "shell.execute_reply": "2022-12-16T21:51:21.675107Z"
    },
    "papermill": {
     "duration": 4.284016,
     "end_time": "2022-12-16T21:51:21.678869",
     "exception": false,
     "start_time": "2022-12-16T21:51:17.394853",
     "status": "completed"
    },
    "tags": []
   },
   "outputs": [
    {
     "data": {
      "text/html": [
       "TRUE"
      ],
      "text/latex": [
       "TRUE"
      ],
      "text/markdown": [
       "TRUE"
      ],
      "text/plain": [
       "[1] TRUE"
      ]
     },
     "metadata": {},
     "output_type": "display_data"
    }
   ],
   "source": [
    "all_trips$tripduration <- as.numeric(as.character(all_trips$tripduration))\n",
    "is.numeric(all_trips$tripduration)"
   ]
  },
  {
   "cell_type": "markdown",
   "id": "d39865cd",
   "metadata": {
    "papermill": {
     "duration": 0.016181,
     "end_time": "2022-12-16T21:51:21.710994",
     "exception": false,
     "start_time": "2022-12-16T21:51:21.694813",
     "status": "completed"
    },
    "tags": []
   },
   "source": [
    "**Exploring 'start station name' column**\n",
    "\n",
    "While exploring the start station column, we notice that some stations are 'HQ QR'. We know that at these locations bikes were checked out for inspection and not for customer use. So first we want to find out how many of the start station names are actually \"HQ QR\"."
   ]
  },
  {
   "cell_type": "code",
   "execution_count": 21,
   "id": "da94a8e3",
   "metadata": {
    "execution": {
     "iopub.execute_input": "2022-12-16T21:51:21.747330Z",
     "iopub.status.busy": "2022-12-16T21:51:21.746133Z",
     "iopub.status.idle": "2022-12-16T21:51:21.895950Z",
     "shell.execute_reply": "2022-12-16T21:51:21.894191Z"
    },
    "papermill": {
     "duration": 0.170443,
     "end_time": "2022-12-16T21:51:21.898314",
     "exception": false,
     "start_time": "2022-12-16T21:51:21.727871",
     "status": "completed"
    },
    "tags": []
   },
   "outputs": [
    {
     "data": {
      "text/html": [
       "3767"
      ],
      "text/latex": [
       "3767"
      ],
      "text/markdown": [
       "3767"
      ],
      "text/plain": [
       "[1] 3767"
      ]
     },
     "metadata": {},
     "output_type": "display_data"
    }
   ],
   "source": [
    "length(which(all_trips$start_station_name==\"HQ QR\"))"
   ]
  },
  {
   "cell_type": "markdown",
   "id": "947db704",
   "metadata": {
    "papermill": {
     "duration": 0.015516,
     "end_time": "2022-12-16T21:51:21.929443",
     "exception": false,
     "start_time": "2022-12-16T21:51:21.913927",
     "status": "completed"
    },
    "tags": []
   },
   "source": [
    "**Analysis:** We realized that there are 3767 rows with the start station at HQ QR. We want to remove these rows."
   ]
  },
  {
   "cell_type": "markdown",
   "id": "99063fb3",
   "metadata": {
    "papermill": {
     "duration": 0.017116,
     "end_time": "2022-12-16T21:51:21.962305",
     "exception": false,
     "start_time": "2022-12-16T21:51:21.945189",
     "status": "completed"
    },
    "tags": []
   },
   "source": [
    "**Removing 'HQ QR' rows**\n",
    "\n",
    "We will remove the rows that have a starting station at HQ QR and are less than 0 in tripduration"
   ]
  },
  {
   "cell_type": "code",
   "execution_count": 22,
   "id": "fdda381e",
   "metadata": {
    "execution": {
     "iopub.execute_input": "2022-12-16T21:51:21.996392Z",
     "iopub.status.busy": "2022-12-16T21:51:21.995162Z",
     "iopub.status.idle": "2022-12-16T21:51:23.348472Z",
     "shell.execute_reply": "2022-12-16T21:51:23.346929Z"
    },
    "papermill": {
     "duration": 1.372684,
     "end_time": "2022-12-16T21:51:23.350834",
     "exception": false,
     "start_time": "2022-12-16T21:51:21.978150",
     "status": "completed"
    },
    "tags": []
   },
   "outputs": [],
   "source": [
    "all_trips_2 <- all_trips [!(all_trips$start_station_name == \"HQ QR\"| all_trips$tripduration <0),]"
   ]
  },
  {
   "cell_type": "markdown",
   "id": "d216ea7a",
   "metadata": {
    "papermill": {
     "duration": 0.016711,
     "end_time": "2022-12-16T21:51:23.383432",
     "exception": false,
     "start_time": "2022-12-16T21:51:23.366721",
     "status": "completed"
    },
    "tags": []
   },
   "source": [
    "**'Tripduration' stats summary in seconds**\n",
    "\n",
    "Lets get a quick summary of tripdurations (in seconds) mean, max, median and average"
   ]
  },
  {
   "cell_type": "code",
   "execution_count": 23,
   "id": "a3b6cb5f",
   "metadata": {
    "execution": {
     "iopub.execute_input": "2022-12-16T21:51:23.418711Z",
     "iopub.status.busy": "2022-12-16T21:51:23.417464Z",
     "iopub.status.idle": "2022-12-16T21:51:23.643537Z",
     "shell.execute_reply": "2022-12-16T21:51:23.641841Z"
    },
    "papermill": {
     "duration": 0.246673,
     "end_time": "2022-12-16T21:51:23.646356",
     "exception": false,
     "start_time": "2022-12-16T21:51:23.399683",
     "status": "completed"
    },
    "tags": []
   },
   "outputs": [
    {
     "data": {
      "text/plain": [
       "   Min. 1st Qu.  Median    Mean 3rd Qu.    Max. \n",
       "      1     412     712    1479    1289 9387024 "
      ]
     },
     "metadata": {},
     "output_type": "display_data"
    }
   ],
   "source": [
    "summary(all_trips_2$tripduration)"
   ]
  },
  {
   "cell_type": "markdown",
   "id": "fe6f7965",
   "metadata": {
    "papermill": {
     "duration": 0.016368,
     "end_time": "2022-12-16T21:51:23.679366",
     "exception": false,
     "start_time": "2022-12-16T21:51:23.662998",
     "status": "completed"
    },
    "tags": []
   },
   "source": [
    "**Add'tripduration column in minutes**\n",
    "\n",
    "We want to see trip duration in minutes, so we added a minutes column"
   ]
  },
  {
   "cell_type": "code",
   "execution_count": 24,
   "id": "0d6623f7",
   "metadata": {
    "execution": {
     "iopub.execute_input": "2022-12-16T21:51:23.715018Z",
     "iopub.status.busy": "2022-12-16T21:51:23.713752Z",
     "iopub.status.idle": "2022-12-16T21:51:23.735634Z",
     "shell.execute_reply": "2022-12-16T21:51:23.734131Z"
    },
    "papermill": {
     "duration": 0.042222,
     "end_time": "2022-12-16T21:51:23.737797",
     "exception": false,
     "start_time": "2022-12-16T21:51:23.695575",
     "status": "completed"
    },
    "tags": []
   },
   "outputs": [],
   "source": [
    "all_trips_2 <- all_trips_2 %>% \n",
    "  mutate(tripduration_min = tripduration/60)"
   ]
  },
  {
   "cell_type": "markdown",
   "id": "0bf54e22",
   "metadata": {
    "papermill": {
     "duration": 0.016093,
     "end_time": "2022-12-16T21:51:23.770508",
     "exception": false,
     "start_time": "2022-12-16T21:51:23.754415",
     "status": "completed"
    },
    "tags": []
   },
   "source": [
    "**'Tripduration' stats summary in minutes**\n",
    "\n",
    "We want to see the summary of trip duration(in minutes) for mean,max,min,median and average."
   ]
  },
  {
   "cell_type": "code",
   "execution_count": 25,
   "id": "e4648f37",
   "metadata": {
    "execution": {
     "iopub.execute_input": "2022-12-16T21:51:23.807729Z",
     "iopub.status.busy": "2022-12-16T21:51:23.806005Z",
     "iopub.status.idle": "2022-12-16T21:51:24.029562Z",
     "shell.execute_reply": "2022-12-16T21:51:24.028225Z"
    },
    "papermill": {
     "duration": 0.244462,
     "end_time": "2022-12-16T21:51:24.031620",
     "exception": false,
     "start_time": "2022-12-16T21:51:23.787158",
     "status": "completed"
    },
    "tags": []
   },
   "outputs": [
    {
     "data": {
      "text/plain": [
       "     Min.   1st Qu.    Median      Mean   3rd Qu.      Max. \n",
       "     0.02      6.87     11.87     24.65     21.48 156450.40 "
      ]
     },
     "metadata": {},
     "output_type": "display_data"
    }
   ],
   "source": [
    "summary(all_trips_2$tripduration_min)"
   ]
  },
  {
   "cell_type": "markdown",
   "id": "b03d2198",
   "metadata": {
    "papermill": {
     "duration": 0.015889,
     "end_time": "2022-12-16T21:51:24.064129",
     "exception": false,
     "start_time": "2022-12-16T21:51:24.048240",
     "status": "completed"
    },
    "tags": []
   },
   "source": [
    "**Compare member and casual users**"
   ]
  },
  {
   "cell_type": "code",
   "execution_count": 26,
   "id": "64526d5f",
   "metadata": {
    "execution": {
     "iopub.execute_input": "2022-12-16T21:51:24.099162Z",
     "iopub.status.busy": "2022-12-16T21:51:24.097900Z",
     "iopub.status.idle": "2022-12-16T21:51:30.054876Z",
     "shell.execute_reply": "2022-12-16T21:51:30.053500Z"
    },
    "papermill": {
     "duration": 5.976831,
     "end_time": "2022-12-16T21:51:30.056933",
     "exception": false,
     "start_time": "2022-12-16T21:51:24.080102",
     "status": "completed"
    },
    "tags": []
   },
   "outputs": [
    {
     "data": {
      "text/html": [
       "<table class=\"dataframe\">\n",
       "<caption>A data.frame: 2 × 2</caption>\n",
       "<thead>\n",
       "\t<tr><th scope=col>all_trips_2$member_casual</th><th scope=col>all_trips_2$tripduration_min</th></tr>\n",
       "\t<tr><th scope=col>&lt;chr&gt;</th><th scope=col>&lt;dbl&gt;</th></tr>\n",
       "</thead>\n",
       "<tbody>\n",
       "\t<tr><td>casual</td><td>59.21250</td></tr>\n",
       "\t<tr><td>member</td><td>14.16777</td></tr>\n",
       "</tbody>\n",
       "</table>\n"
      ],
      "text/latex": [
       "A data.frame: 2 × 2\n",
       "\\begin{tabular}{ll}\n",
       " all\\_trips\\_2\\$member\\_casual & all\\_trips\\_2\\$tripduration\\_min\\\\\n",
       " <chr> & <dbl>\\\\\n",
       "\\hline\n",
       "\t casual & 59.21250\\\\\n",
       "\t member & 14.16777\\\\\n",
       "\\end{tabular}\n"
      ],
      "text/markdown": [
       "\n",
       "A data.frame: 2 × 2\n",
       "\n",
       "| all_trips_2$member_casual &lt;chr&gt; | all_trips_2$tripduration_min &lt;dbl&gt; |\n",
       "|---|---|\n",
       "| casual | 59.21250 |\n",
       "| member | 14.16777 |\n",
       "\n"
      ],
      "text/plain": [
       "  all_trips_2$member_casual all_trips_2$tripduration_min\n",
       "1 casual                    59.21250                    \n",
       "2 member                    14.16777                    "
      ]
     },
     "metadata": {},
     "output_type": "display_data"
    },
    {
     "data": {
      "text/html": [
       "<table class=\"dataframe\">\n",
       "<caption>A data.frame: 2 × 2</caption>\n",
       "<thead>\n",
       "\t<tr><th scope=col>all_trips_2$member_casual</th><th scope=col>all_trips_2$tripduration_min</th></tr>\n",
       "\t<tr><th scope=col>&lt;chr&gt;</th><th scope=col>&lt;dbl&gt;</th></tr>\n",
       "</thead>\n",
       "<tbody>\n",
       "\t<tr><td>casual</td><td>156450.4</td></tr>\n",
       "\t<tr><td>member</td><td>150943.9</td></tr>\n",
       "</tbody>\n",
       "</table>\n"
      ],
      "text/latex": [
       "A data.frame: 2 × 2\n",
       "\\begin{tabular}{ll}\n",
       " all\\_trips\\_2\\$member\\_casual & all\\_trips\\_2\\$tripduration\\_min\\\\\n",
       " <chr> & <dbl>\\\\\n",
       "\\hline\n",
       "\t casual & 156450.4\\\\\n",
       "\t member & 150943.9\\\\\n",
       "\\end{tabular}\n"
      ],
      "text/markdown": [
       "\n",
       "A data.frame: 2 × 2\n",
       "\n",
       "| all_trips_2$member_casual &lt;chr&gt; | all_trips_2$tripduration_min &lt;dbl&gt; |\n",
       "|---|---|\n",
       "| casual | 156450.4 |\n",
       "| member | 150943.9 |\n",
       "\n"
      ],
      "text/plain": [
       "  all_trips_2$member_casual all_trips_2$tripduration_min\n",
       "1 casual                    156450.4                    \n",
       "2 member                    150943.9                    "
      ]
     },
     "metadata": {},
     "output_type": "display_data"
    },
    {
     "data": {
      "text/html": [
       "<table class=\"dataframe\">\n",
       "<caption>A data.frame: 2 × 2</caption>\n",
       "<thead>\n",
       "\t<tr><th scope=col>all_trips_2$member_casual</th><th scope=col>all_trips_2$tripduration_min</th></tr>\n",
       "\t<tr><th scope=col>&lt;chr&gt;</th><th scope=col>&lt;dbl&gt;</th></tr>\n",
       "</thead>\n",
       "<tbody>\n",
       "\t<tr><td>casual</td><td>25.766667</td></tr>\n",
       "\t<tr><td>member</td><td> 9.816667</td></tr>\n",
       "</tbody>\n",
       "</table>\n"
      ],
      "text/latex": [
       "A data.frame: 2 × 2\n",
       "\\begin{tabular}{ll}\n",
       " all\\_trips\\_2\\$member\\_casual & all\\_trips\\_2\\$tripduration\\_min\\\\\n",
       " <chr> & <dbl>\\\\\n",
       "\\hline\n",
       "\t casual & 25.766667\\\\\n",
       "\t member &  9.816667\\\\\n",
       "\\end{tabular}\n"
      ],
      "text/markdown": [
       "\n",
       "A data.frame: 2 × 2\n",
       "\n",
       "| all_trips_2$member_casual &lt;chr&gt; | all_trips_2$tripduration_min &lt;dbl&gt; |\n",
       "|---|---|\n",
       "| casual | 25.766667 |\n",
       "| member |  9.816667 |\n",
       "\n"
      ],
      "text/plain": [
       "  all_trips_2$member_casual all_trips_2$tripduration_min\n",
       "1 casual                    25.766667                   \n",
       "2 member                     9.816667                   "
      ]
     },
     "metadata": {},
     "output_type": "display_data"
    },
    {
     "data": {
      "text/html": [
       "<table class=\"dataframe\">\n",
       "<caption>A data.frame: 2 × 2</caption>\n",
       "<thead>\n",
       "\t<tr><th scope=col>all_trips_2$member_casual</th><th scope=col>all_trips_2$tripduration_min</th></tr>\n",
       "\t<tr><th scope=col>&lt;chr&gt;</th><th scope=col>&lt;dbl&gt;</th></tr>\n",
       "</thead>\n",
       "<tbody>\n",
       "\t<tr><td>casual</td><td>0.03333333</td></tr>\n",
       "\t<tr><td>member</td><td>0.01666667</td></tr>\n",
       "</tbody>\n",
       "</table>\n"
      ],
      "text/latex": [
       "A data.frame: 2 × 2\n",
       "\\begin{tabular}{ll}\n",
       " all\\_trips\\_2\\$member\\_casual & all\\_trips\\_2\\$tripduration\\_min\\\\\n",
       " <chr> & <dbl>\\\\\n",
       "\\hline\n",
       "\t casual & 0.03333333\\\\\n",
       "\t member & 0.01666667\\\\\n",
       "\\end{tabular}\n"
      ],
      "text/markdown": [
       "\n",
       "A data.frame: 2 × 2\n",
       "\n",
       "| all_trips_2$member_casual &lt;chr&gt; | all_trips_2$tripduration_min &lt;dbl&gt; |\n",
       "|---|---|\n",
       "| casual | 0.03333333 |\n",
       "| member | 0.01666667 |\n",
       "\n"
      ],
      "text/plain": [
       "  all_trips_2$member_casual all_trips_2$tripduration_min\n",
       "1 casual                    0.03333333                  \n",
       "2 member                    0.01666667                  "
      ]
     },
     "metadata": {},
     "output_type": "display_data"
    }
   ],
   "source": [
    "aggregate(all_trips_2$tripduration_min ~ all_trips_2$member_casual, FUN = mean)\n",
    "aggregate(all_trips_2$tripduration_min ~ all_trips_2$member_casual, FUN = max)\n",
    "aggregate(all_trips_2$tripduration_min ~ all_trips_2$member_casual, FUN = median)\n",
    "aggregate(all_trips_2$tripduration_min ~ all_trips_2$member_casual, FUN = min)"
   ]
  },
  {
   "cell_type": "markdown",
   "id": "4e2b0ac4",
   "metadata": {
    "papermill": {
     "duration": 0.016902,
     "end_time": "2022-12-16T21:51:30.091053",
     "exception": false,
     "start_time": "2022-12-16T21:51:30.074151",
     "status": "completed"
    },
    "tags": []
   },
   "source": [
    "**Explore the average trip duration for each day, by both users**"
   ]
  },
  {
   "cell_type": "code",
   "execution_count": 27,
   "id": "3e97ccd2",
   "metadata": {
    "execution": {
     "iopub.execute_input": "2022-12-16T21:51:30.128338Z",
     "iopub.status.busy": "2022-12-16T21:51:30.127031Z",
     "iopub.status.idle": "2022-12-16T21:51:31.869021Z",
     "shell.execute_reply": "2022-12-16T21:51:31.867503Z"
    },
    "papermill": {
     "duration": 1.762882,
     "end_time": "2022-12-16T21:51:31.870803",
     "exception": false,
     "start_time": "2022-12-16T21:51:30.107921",
     "status": "completed"
    },
    "tags": []
   },
   "outputs": [],
   "source": [
    "all_trips_2_DayOfWeek_mean <- aggregate(all_trips_2$tripduration_min ~ all_trips_2$member_casual + all_trips_2$day_of_the_week, FUN = mean)"
   ]
  },
  {
   "cell_type": "markdown",
   "id": "d7cbdc03",
   "metadata": {
    "papermill": {
     "duration": 0.016893,
     "end_time": "2022-12-16T21:51:31.904461",
     "exception": false,
     "start_time": "2022-12-16T21:51:31.887568",
     "status": "completed"
    },
    "tags": []
   },
   "source": [
    "**Analysis:** Here by just looking at the mean numbers for each day of the week for each both user types. We see that 'causal' riders have a longer average trip duration all the days of the week compared to the 'members'."
   ]
  },
  {
   "cell_type": "markdown",
   "id": "f3e0e2b7",
   "metadata": {
    "papermill": {
     "duration": 0.016997,
     "end_time": "2022-12-16T21:51:31.938326",
     "exception": false,
     "start_time": "2022-12-16T21:51:31.921329",
     "status": "completed"
    },
    "tags": []
   },
   "source": [
    "**Putting the days of the week in order**"
   ]
  },
  {
   "cell_type": "code",
   "execution_count": 28,
   "id": "943950a9",
   "metadata": {
    "execution": {
     "iopub.execute_input": "2022-12-16T21:51:31.975226Z",
     "iopub.status.busy": "2022-12-16T21:51:31.973982Z",
     "iopub.status.idle": "2022-12-16T21:51:32.018197Z",
     "shell.execute_reply": "2022-12-16T21:51:32.016686Z"
    },
    "papermill": {
     "duration": 0.064794,
     "end_time": "2022-12-16T21:51:32.019875",
     "exception": false,
     "start_time": "2022-12-16T21:51:31.955081",
     "status": "completed"
    },
    "tags": []
   },
   "outputs": [],
   "source": [
    "all_trips_2$day_of_the_week <- ordered(all_trips_2$day_of_the_week, levels=c(\"Sunday\",\"Monday\",\"Tuesday\",\"Wednesday\",\"Thursday\",\"Friday\",\"Saturday\"))"
   ]
  },
  {
   "cell_type": "markdown",
   "id": "5b0ac692",
   "metadata": {
    "papermill": {
     "duration": 0.017008,
     "end_time": "2022-12-16T21:51:32.053906",
     "exception": false,
     "start_time": "2022-12-16T21:51:32.036898",
     "status": "completed"
    },
    "tags": []
   },
   "source": [
    "**Analysis:** Now that the days are in order we can look at the average trip duration by each day for both users again. This time the days are in order."
   ]
  },
  {
   "cell_type": "markdown",
   "id": "2dc60a33",
   "metadata": {
    "papermill": {
     "duration": 0.017137,
     "end_time": "2022-12-16T21:51:32.087928",
     "exception": false,
     "start_time": "2022-12-16T21:51:32.070791",
     "status": "completed"
    },
    "tags": []
   },
   "source": [
    "**Explore average tripduration with days of the week in order**"
   ]
  },
  {
   "cell_type": "code",
   "execution_count": 29,
   "id": "a3a720e3",
   "metadata": {
    "execution": {
     "iopub.execute_input": "2022-12-16T21:51:32.125054Z",
     "iopub.status.busy": "2022-12-16T21:51:32.123755Z",
     "iopub.status.idle": "2022-12-16T21:51:33.699755Z",
     "shell.execute_reply": "2022-12-16T21:51:33.698295Z"
    },
    "papermill": {
     "duration": 1.596969,
     "end_time": "2022-12-16T21:51:33.701795",
     "exception": false,
     "start_time": "2022-12-16T21:51:32.104826",
     "status": "completed"
    },
    "tags": []
   },
   "outputs": [],
   "source": [
    "all_trips_2_DayOfWeek_mean <- aggregate(all_trips_2$tripduration_min ~ all_trips_2$member_casual + all_trips_2$day_of_the_week, FUN = mean)"
   ]
  },
  {
   "cell_type": "markdown",
   "id": "84cd51f9",
   "metadata": {
    "papermill": {
     "duration": 0.017432,
     "end_time": "2022-12-16T21:51:33.735981",
     "exception": false,
     "start_time": "2022-12-16T21:51:33.718549",
     "status": "completed"
    },
    "tags": []
   },
   "source": [
    "**We will analyze ridership data type and weekday**\n",
    "\n",
    "* First pipe creates weekday field using wday(). We use label=TRUE so it shows up as an ordered factor and not a decimal.\n",
    "* Second pipe groups it by the usertype and weekday\n",
    "* Third pipe calculates the number of rides and average trip duration\n",
    "* Forth pipe sorts"
   ]
  },
  {
   "cell_type": "code",
   "execution_count": 30,
   "id": "dbe1824e",
   "metadata": {
    "execution": {
     "iopub.execute_input": "2022-12-16T21:51:33.773521Z",
     "iopub.status.busy": "2022-12-16T21:51:33.772331Z",
     "iopub.status.idle": "2022-12-16T21:51:37.906135Z",
     "shell.execute_reply": "2022-12-16T21:51:37.904700Z"
    },
    "papermill": {
     "duration": 4.154885,
     "end_time": "2022-12-16T21:51:37.908215",
     "exception": false,
     "start_time": "2022-12-16T21:51:33.753330",
     "status": "completed"
    },
    "tags": []
   },
   "outputs": [
    {
     "name": "stderr",
     "output_type": "stream",
     "text": [
      "\u001b[1m\u001b[22m`summarise()` has grouped output by 'member_casual'. You can override using the\n",
      "`.groups` argument.\n"
     ]
    }
   ],
   "source": [
    "all_trips_3 <- all_trips_2 %>% \n",
    "  mutate(weekday=wday(started_at,label=TRUE)) %>% \n",
    "  group_by(member_casual,weekday) %>% \n",
    "  summarise(number_of_rides=n(), average_duration_min=mean(tripduration_min)) %>% \n",
    "  arrange(member_casual,weekday)"
   ]
  },
  {
   "cell_type": "markdown",
   "id": "4aa48959",
   "metadata": {
    "papermill": {
     "duration": 0.017416,
     "end_time": "2022-12-16T21:51:37.942899",
     "exception": false,
     "start_time": "2022-12-16T21:51:37.925483",
     "status": "completed"
    },
    "tags": []
   },
   "source": [
    "**Counting the number of start station names**"
   ]
  },
  {
   "cell_type": "code",
   "execution_count": 31,
   "id": "de631a17",
   "metadata": {
    "execution": {
     "iopub.execute_input": "2022-12-16T21:51:37.980101Z",
     "iopub.status.busy": "2022-12-16T21:51:37.978862Z",
     "iopub.status.idle": "2022-12-16T21:51:38.094945Z",
     "shell.execute_reply": "2022-12-16T21:51:38.093357Z"
    },
    "papermill": {
     "duration": 0.137512,
     "end_time": "2022-12-16T21:51:38.097506",
     "exception": false,
     "start_time": "2022-12-16T21:51:37.959994",
     "status": "completed"
    },
    "tags": []
   },
   "outputs": [],
   "source": [
    "Start_station <- all_trips %>% \n",
    "   count(start_station_name) %>% \n",
    "   arrange(n)"
   ]
  },
  {
   "cell_type": "markdown",
   "id": "5c866e12",
   "metadata": {
    "papermill": {
     "duration": 0.017167,
     "end_time": "2022-12-16T21:51:38.132047",
     "exception": false,
     "start_time": "2022-12-16T21:51:38.114880",
     "status": "completed"
    },
    "tags": []
   },
   "source": [
    "**Analysis:** We see that most users take bikes from the 'Streeter Dr & Grand Ave', 'Canal St & Adams St' and 'Lake Shore Dr & Monroe St' station."
   ]
  },
  {
   "cell_type": "markdown",
   "id": "e86c2b0b",
   "metadata": {
    "papermill": {
     "duration": 0.016845,
     "end_time": "2022-12-16T21:51:38.166086",
     "exception": false,
     "start_time": "2022-12-16T21:51:38.149241",
     "status": "completed"
    },
    "tags": []
   },
   "source": [
    "# **Phase #4 & #5-ANALYZE/SHARE**"
   ]
  },
  {
   "cell_type": "markdown",
   "id": "3401f9d1",
   "metadata": {
    "papermill": {
     "duration": 0.016809,
     "end_time": "2022-12-16T21:51:38.199879",
     "exception": false,
     "start_time": "2022-12-16T21:51:38.183070",
     "status": "completed"
    },
    "tags": []
   },
   "source": [
    "**Visualization of both user type in relation to the number of rides each day of the week**"
   ]
  },
  {
   "cell_type": "code",
   "execution_count": 32,
   "id": "da41307b",
   "metadata": {
    "execution": {
     "iopub.execute_input": "2022-12-16T21:51:38.237508Z",
     "iopub.status.busy": "2022-12-16T21:51:38.236227Z",
     "iopub.status.idle": "2022-12-16T21:51:38.817647Z",
     "shell.execute_reply": "2022-12-16T21:51:38.816216Z"
    },
    "papermill": {
     "duration": 0.602065,
     "end_time": "2022-12-16T21:51:38.819408",
     "exception": false,
     "start_time": "2022-12-16T21:51:38.217343",
     "status": "completed"
    },
    "tags": []
   },
   "outputs": [
    {
     "data": {
      "image/png": "[encoded data removed]"
     },
     "metadata": {
      "image/png": {
       "height": 420,
       "width": 420
      }
     },
     "output_type": "display_data"
    }
   ],
   "source": [
    "all_trips_3 %>% \n",
    "  ggplot(mapping=aes(x=weekday, y=number_of_rides, fill=member_casual))+\n",
    "  geom_col(position = \"dodge\")+\n",
    "  labs(title = \"Number of rides compared to Day of the week\", subtitle=\"User type comparison: Member vs Casual\", x=\"Weekday\", y=\"Number of Rides\")+\n",
    "  guides(fill=guide_legend(title=\"User Type\"))"
   ]
  },
  {
   "cell_type": "markdown",
   "id": "0ad2cc77",
   "metadata": {
    "papermill": {
     "duration": 0.017351,
     "end_time": "2022-12-16T21:51:38.854800",
     "exception": false,
     "start_time": "2022-12-16T21:51:38.837449",
     "status": "completed"
    },
    "tags": []
   },
   "source": [
    "**Analysis:** In this graph we see that the \"members\" take far more trips each day than \"cusual\" users. We also can see that the higher number of rides for \"casual\" members are on Saturday and Sunday. The highest number of rides for \"members\" are Tuesday followed by Wednesday."
   ]
  },
  {
   "cell_type": "markdown",
   "id": "c119b186",
   "metadata": {
    "papermill": {
     "duration": 0.017216,
     "end_time": "2022-12-16T21:51:38.889376",
     "exception": false,
     "start_time": "2022-12-16T21:51:38.872160",
     "status": "completed"
    },
    "tags": []
   },
   "source": [
    "**Visualization of both user type in relation to the average trip duration each day of the week**"
   ]
  },
  {
   "cell_type": "code",
   "execution_count": 33,
   "id": "19a4c0d9",
   "metadata": {
    "execution": {
     "iopub.execute_input": "2022-12-16T21:51:38.926517Z",
     "iopub.status.busy": "2022-12-16T21:51:38.925257Z",
     "iopub.status.idle": "2022-12-16T21:51:39.207904Z",
     "shell.execute_reply": "2022-12-16T21:51:39.206560Z"
    },
    "papermill": {
     "duration": 0.303068,
     "end_time": "2022-12-16T21:51:39.209623",
     "exception": false,
     "start_time": "2022-12-16T21:51:38.906555",
     "status": "completed"
    },
    "tags": []
   },
   "outputs": [
    {
     "data": {
      "image/png": "[encoded data removed]"
     },
     "metadata": {
      "image/png": {
       "height": 420,
       "width": 420
      }
     },
     "output_type": "display_data"
    }
   ],
   "source": [
    "all_trips_3 %>% \n",
    "  ggplot(mapping=aes(x=weekday, y=average_duration_min, fill=member_casual))+\n",
    "  geom_col(position = \"dodge\")+\n",
    "  labs(title = \"Average Trip Duration compared to Day of the week\", subtitle=\"User type comparison: Member vs Casual\", x=\"Weekday\", y=\"Average Trip Duration(min)\")+\n",
    "  guides(fill=guide_legend(title=\"User Type\"))"
   ]
  },
  {
   "cell_type": "markdown",
   "id": "f61d5bc8",
   "metadata": {
    "papermill": {
     "duration": 0.018161,
     "end_time": "2022-12-16T21:51:39.245922",
     "exception": false,
     "start_time": "2022-12-16T21:51:39.227761",
     "status": "completed"
    },
    "tags": []
   },
   "source": [
    "**Analysis:** In this graph we see that \"casual\" users, each day of the week had the longest average trip duration compared to the \"member\" user type. So from the last two graphs we see that there are not as many 'casual' users taking trips compared to actual 'members'. But when they do take trips, the trip duration fat exceeds those of actual 'members'. Actual 'members' number of trips far exceeds those of 'casual' users. But their trip duration are less."
   ]
  },
  {
   "cell_type": "markdown",
   "id": "68a6f3de",
   "metadata": {
    "papermill": {
     "duration": 0.018912,
     "end_time": "2022-12-16T21:51:39.288910",
     "exception": false,
     "start_time": "2022-12-16T21:51:39.269998",
     "status": "completed"
    },
    "tags": []
   },
   "source": [
    "**Analyze ridership data type and month**"
   ]
  },
  {
   "cell_type": "code",
   "execution_count": 34,
   "id": "baced7a8",
   "metadata": {
    "execution": {
     "iopub.execute_input": "2022-12-16T21:51:39.328759Z",
     "iopub.status.busy": "2022-12-16T21:51:39.327487Z",
     "iopub.status.idle": "2022-12-16T21:51:43.118826Z",
     "shell.execute_reply": "2022-12-16T21:51:43.117335Z"
    },
    "papermill": {
     "duration": 3.813237,
     "end_time": "2022-12-16T21:51:43.121005",
     "exception": false,
     "start_time": "2022-12-16T21:51:39.307768",
     "status": "completed"
    },
    "tags": []
   },
   "outputs": [
    {
     "name": "stderr",
     "output_type": "stream",
     "text": [
      "\u001b[1m\u001b[22m`summarise()` has grouped output by 'member_casual'. You can override using the\n",
      "`.groups` argument.\n"
     ]
    }
   ],
   "source": [
    "all_trips_4 <- all_trips_2 %>% \n",
    "  mutate(month=month(started_at,label=TRUE)) %>% \n",
    "  group_by(member_casual,month) %>% \n",
    "  summarise(number_of_rides=n(), average_duration_min=mean(tripduration_min)) %>% \n",
    "  arrange(member_casual,month)"
   ]
  },
  {
   "cell_type": "markdown",
   "id": "8242efb4",
   "metadata": {
    "papermill": {
     "duration": 0.018389,
     "end_time": "2022-12-16T21:51:43.159051",
     "exception": false,
     "start_time": "2022-12-16T21:51:43.140662",
     "status": "completed"
    },
    "tags": []
   },
   "source": [
    "**Put the months in order**"
   ]
  },
  {
   "cell_type": "code",
   "execution_count": 35,
   "id": "84e23d86",
   "metadata": {
    "execution": {
     "iopub.execute_input": "2022-12-16T21:51:43.198322Z",
     "iopub.status.busy": "2022-12-16T21:51:43.197107Z",
     "iopub.status.idle": "2022-12-16T21:51:43.207962Z",
     "shell.execute_reply": "2022-12-16T21:51:43.206443Z"
    },
    "papermill": {
     "duration": 0.032957,
     "end_time": "2022-12-16T21:51:43.210439",
     "exception": false,
     "start_time": "2022-12-16T21:51:43.177482",
     "status": "completed"
    },
    "tags": []
   },
   "outputs": [],
   "source": [
    "all_trips_4$month <- ordered(all_trips_4$month, levels=c(\"Jan\",\"Feb\",\"Mar\", \"Apr\", \"May\", \"Jun\", \"Jul\", \"Aug\", \"Sep\", \"Oct\", \"Nov\", \"Dec\"))"
   ]
  },
  {
   "cell_type": "markdown",
   "id": "6fb0746e",
   "metadata": {
    "papermill": {
     "duration": 0.018245,
     "end_time": "2022-12-16T21:51:43.247067",
     "exception": false,
     "start_time": "2022-12-16T21:51:43.228822",
     "status": "completed"
    },
    "tags": []
   },
   "source": [
    "**Visualize both user types. Comparing the number of rides to months**"
   ]
  },
  {
   "cell_type": "code",
   "execution_count": 36,
   "id": "5544c739",
   "metadata": {
    "execution": {
     "iopub.execute_input": "2022-12-16T21:51:43.285239Z",
     "iopub.status.busy": "2022-12-16T21:51:43.284024Z",
     "iopub.status.idle": "2022-12-16T21:51:43.542951Z",
     "shell.execute_reply": "2022-12-16T21:51:43.541594Z"
    },
    "papermill": {
     "duration": 0.279918,
     "end_time": "2022-12-16T21:51:43.544609",
     "exception": false,
     "start_time": "2022-12-16T21:51:43.264691",
     "status": "completed"
    },
    "tags": []
   },
   "outputs": [
    {
     "data": {
      "image/png": "[encoded data removed]"
     },
     "metadata": {
      "image/png": {
       "height": 420,
       "width": 420
      }
     },
     "output_type": "display_data"
    }
   ],
   "source": [
    "all_trips_4 %>% \n",
    "  ggplot(mapping = aes(x=month,y=number_of_rides, fill=member_casual))+\n",
    "  geom_col(position = \"dodge\")+\n",
    "  labs(title =\"Number of rides compared to the Month\", subtitle =\"User type comparison: Member vs Casual\", x=\"Month\", y=\"Number of rides\")+\n",
    "  guides(fill=guide_legend(title=\"User Type\"))"
   ]
  },
  {
   "cell_type": "markdown",
   "id": "3a0cd428",
   "metadata": {
    "papermill": {
     "duration": 0.018427,
     "end_time": "2022-12-16T21:51:43.581957",
     "exception": false,
     "start_time": "2022-12-16T21:51:43.563530",
     "status": "completed"
    },
    "tags": []
   },
   "source": [
    "**Analysis:** We see that for both user types, that the highest number of rides are in the months of (June, July, August and September). While doing a quick search we realize these are the months of start/end of summer. Also can see that August is the highest month with the most number of rides, for both users."
   ]
  },
  {
   "cell_type": "markdown",
   "id": "df6965b9",
   "metadata": {
    "papermill": {
     "duration": 0.018712,
     "end_time": "2022-12-16T21:51:43.619144",
     "exception": false,
     "start_time": "2022-12-16T21:51:43.600432",
     "status": "completed"
    },
    "tags": []
   },
   "source": [
    "# **Phase #6-ACT**"
   ]
  },
  {
   "cell_type": "markdown",
   "id": "97b50bcd",
   "metadata": {
    "papermill": {
     "duration": 0.019273,
     "end_time": "2022-12-16T21:51:43.656901",
     "exception": false,
     "start_time": "2022-12-16T21:51:43.637628",
     "status": "completed"
    },
    "tags": []
   },
   "source": [
    "**Recommendations:**\n",
    "\n",
    "* The ride number goes down in the months of (Nov, Dec, Jan, Feb), the winter months. Which I believe is completely understandable. It is not ideal to ride a bike during the colder seasons. But I would recommend discounting memberships to 'casual' riders during the winter months before the warmer months come. So, when the warmer months come around and the trip number starts to multiply, at least the new ‘members’ know their set and can take out a bike as any times as they want during the warmer months. \n",
    "\n",
    "* Since we know that casual riders have longer trip duration. We can create ads/promotions towards casual riders that take long bike trips.\n",
    "\n",
    "* We can also push membership promotions at the top 3 start stations which are 'Streeter Dr & Grand Ave', 'Canal St & Adams St' and 'Lake Shore Dr & Monroe St'.\n",
    "\n",
    "* Create attractive promotions to entice casual users to use Cyclistic services during the weekdays, to help the number of trips to increase. \n"
   ]
  }
 ],
 "metadata": {
  "kernelspec": {
   "display_name": "R",
   "language": "R",
   "name": "ir"
  },
  "language_info": {
   "codemirror_mode": "r",
   "file_extension": ".r",
   "mimetype": "text/x-r-source",
   "name": "R",
   "pygments_lexer": "r",
   "version": "4.0.5"
  },
  "papermill": {
   "default_parameters": {},
   "duration": 117.924943,
   "end_time": "2022-12-16T21:51:43.896145",
   "environment_variables": {},
   "exception": null,
   "input_path": "__notebook__.ipynb",
   "output_path": "__notebook__.ipynb",
   "parameters": {},
   "start_time": "2022-12-16T21:49:45.971202",
   "version": "2.4.0"
  }
 },
 "nbformat": 4,
 "nbformat_minor": 5
}
